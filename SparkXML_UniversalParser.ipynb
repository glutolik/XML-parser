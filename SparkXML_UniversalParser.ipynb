{
 "cells": [
  {
   "cell_type": "code",
   "execution_count": null,
   "metadata": {
    "collapsed": true
   },
   "outputs": [],
   "source": [
    "#%delete -f -s 251"
   ]
  },
  {
   "cell_type": "code",
   "execution_count": 1,
   "metadata": {},
   "outputs": [
    {
     "name": "stdout",
     "output_type": "stream",
     "text": [
      "Starting Spark application\n"
     ]
    },
    {
     "data": {
      "text/html": [
       "<table>\n",
       "<tr><th>ID</th><th>YARN Application ID</th><th>Kind</th><th>State</th><th>Spark UI</th><th>Driver log</th><th>Current session?</th></tr><tr><td>207</td><td>application_1564590495923_4271</td><td>pyspark</td><td>idle</td><td><a target=\"_blank\" href=\"http://os-2854.homecredit.ru:8088/proxy/application_1564590495923_4271/\">Link</a></td><td><a target=\"_blank\" href=\"//os-2856.homecredit.ru:8042/node/containerlogs/container_e54_1564590495923_4271_01_000001/aglushenko\">Link</a></td><td>✔</td></tr></table>"
      ],
      "text/plain": [
       "<IPython.core.display.HTML object>"
      ]
     },
     "metadata": {},
     "output_type": "display_data"
    },
    {
     "name": "stdout",
     "output_type": "stream",
     "text": [
      "SparkSession available as 'spark'.\n"
     ]
    }
   ],
   "source": [
    "from copy import deepcopy\n",
    "import numpy as np\n",
    "import pandas as pd\n",
    "import re\n",
    "import datetime\n",
    "import gc\n",
    "import pyspark"
   ]
  },
  {
   "cell_type": "code",
   "execution_count": 2,
   "metadata": {
    "collapsed": true
   },
   "outputs": [],
   "source": [
    "#%env JAVA_TOOL_OPTIONS:-Dfile.encoding=UTF16"
   ]
  },
  {
   "cell_type": "code",
   "execution_count": 4,
   "metadata": {},
   "outputs": [
    {
     "data": {
      "text/html": [
       "Current session configs: <tt>{'executorCores': 2, 'conf': {'spark.sql.shuffle.partitions': 200, 'spark.driver.extraClassPath': '/hadoop/smartdata/lib/ojdbc6-11.2.0.3.jar:/hadoop/smartdata/lib/kudu-spark2_2.11-1.2.0.jar:/hadoop/smartdata/lib/hbase-client-1.2.0-cdh5.10.0.jar:/hadoop/smartdata/lib/hbase-common-1.2.0-cdh5.10.0.jar:/hadoop/smartdata/lib/hbase-spark-1.2.0-cdh5.10.0.jar', 'spark.executor.extraClassPath': '/hadoop/smartdata/lib/ojdbc6-11.2.0.3.jar:/hadoop/smartdata/lib/kudu-spark2_2.11-1.2.0.jar:/hadoop/smartdata/lib/hbase-client-1.2.0-cdh5.10.0.jar:/hadoop/smartdata/lib/hbase-common-1.2.0-cdh5.10.0.jar:/hadoop/smartdata/lib/hbase-spark-1.2.0-cdh5.10.0.jar'}, 'kind': 'pyspark', 'driverMemory': '1000M', 'executorMemory': '1000M', 'proxyUser': 'aglushenko'}</tt><br>"
      ],
      "text/plain": [
       "<IPython.core.display.HTML object>"
      ]
     },
     "metadata": {},
     "output_type": "display_data"
    },
    {
     "name": "stderr",
     "output_type": "stream",
     "text": [
      "An error was encountered:\n",
      "Session of kind 'shared' not supported. Session must be of kinds spark, pyspark, pyspark3, sparkr.\n"
     ]
    }
   ],
   "source": [
    "%%info"
   ]
  },
  {
   "cell_type": "code",
   "execution_count": 57,
   "metadata": {
    "collapsed": true
   },
   "outputs": [],
   "source": [
    "text_data = sc.textFile('/user/aglushenko/head_encoded.xml', use_unicode=True)"
   ]
  },
  {
   "cell_type": "code",
   "execution_count": 9,
   "metadata": {
    "collapsed": true,
    "scrolled": false
   },
   "outputs": [],
   "source": [
    "tmp_list = create_xml_list(text_data)"
   ]
  },
  {
   "cell_type": "code",
   "execution_count": 333,
   "metadata": {
    "collapsed": true
   },
   "outputs": [],
   "source": [
    "text_data_full = sc.textFile('/user/aglushenko/012_SC_1_20180906_0001_utf.xml', use_unicode=True)"
   ]
  },
  {
   "cell_type": "code",
   "execution_count": 6,
   "metadata": {},
   "outputs": [
    {
     "name": "stdout",
     "output_type": "stream",
     "text": [
      "292710766"
     ]
    }
   ],
   "source": [
    "text_data_full.count()"
   ]
  },
  {
   "cell_type": "code",
   "execution_count": null,
   "metadata": {
    "collapsed": true
   },
   "outputs": [],
   "source": [
    "text_data_zipped = text_data_full.zipWithIndex()"
   ]
  },
  {
   "cell_type": "code",
   "execution_count": 283,
   "metadata": {},
   "outputs": [
    {
     "name": "stdout",
     "output_type": "stream",
     "text": [
      "0:03:11.738863"
     ]
    }
   ],
   "source": [
    "begin_time = datetime.datetime.now()\n",
    "\n",
    "first_xml = text_data_zipped.filter(lambda x: (x[1] > 2) & (x[1] <= 179)).keys().collect()\n",
    "\n",
    "end_time = datetime.datetime.now()\n",
    "exec_time = end_time - begin_time\n",
    "print(exec_time)"
   ]
  },
  {
   "cell_type": "code",
   "execution_count": 130,
   "metadata": {},
   "outputs": [
    {
     "name": "stdout",
     "output_type": "stream",
     "text": [
      "0:02:38.369118"
     ]
    }
   ],
   "source": [
    "begin_time = datetime.datetime.now()\n",
    "\n",
    "second_xml = text_data_zipped.filter(lambda x: (x[1] > 179) & (x[1] <= 766)).keys().collect()\n",
    "\n",
    "end_time = datetime.datetime.now()\n",
    "exec_time = end_time - begin_time\n",
    "print(exec_time)"
   ]
  },
  {
   "cell_type": "code",
   "execution_count": 9,
   "metadata": {
    "scrolled": true
   },
   "outputs": [
    {
     "name": "stdout",
     "output_type": "stream",
     "text": [
      "<response num=\"120297472\" dateofreport=\"01.09.2016\" report_type=\"1234571467\">\n",
      "\t<responsecode>1</responsecode>\n",
      "\t<responsestring>Клиент найден и у него есть кредитная история</responsestring>\n",
      "\t<title_part>\n",
      "\t\t<private>\n",
      "\t\t\t<lastname>СЕЛИВАНОВА</lastname>\n",
      "\t\t\t<firstname>ТАТЬЯНА</firstname>\n",
      "\t\t\t<middlename>НИКОЛАЕВНА</middlename>\n",
      "\t\t\t<birthday>11.10.1975</birthday>\n",
      "\t\t\t<birthplace>П ПУДОСТЬ ГАТЧИН. Р-Н ЛО</birthplace>\n",
      "\t\t\t<doc>\n",
      "\t\t\t\t<doctype>1</doctype>\n",
      "\t\t\t\t<docno>4100143407</docno>\n",
      "\t\t\t\t<docdate>30.08.2000</docdate>\n",
      "\t\t\t\t<docplace>ТАИЦКИМ ОМ ГАТЧИН. УВД ЛО</docplace>\n",
      "\t\t\t</doc>\n",
      "\t\t\t<history_title>\n",
      "\t\t\t\t<date>12.06.2018</date>\n",
      "\t\t\t\t<lastname>СЕЛИВАНОВА</lastname>\n",
      "\t\t\t\t<firstname>ТАТЬЯНА</firstname>\n",
      "\t\t\t\t<middlename>НИКОЛАЕВНА</middlename>\n",
      "\t\t\t\t<birthday>11.10.1975</birthday>\n",
      "\t\t\t\t<birthplace>ПОС. ПУДОСТЬ ГАТЧИНСКИЙ Р-Н ЛЕНИНГРАДСКАЯ ОБЛ.</birthplace>\n",
      "\t\t\t\t<doc>\n",
      "\t\t\t\t\t<doctype>1</doctype>\n",
      "\t\t\t\t\t<docno>4100143407</docno>\n",
      "\t\t\t\t\t<docdate>30.08.2000</docdate>\n",
      "\t\t\t\t\t<docplace>ТАИЦКИМ ОМ ГАТЧИНСКОГО УВД ЛО </docplace>\n",
      "\t\t\t\t</doc>\n",
      "\t\t\t\t<pfno>05009766042</pfno>\n",
      "\t\t\t</history_title>\n",
      "\t\t\t<history_title>\n",
      "\t\t\t\t<date>09.08.2018</date>\n",
      "\t\t\t\t<lastname>СЕЛИВАНОВА</lastname>\n",
      "\t\t\t\t<firstname>ТАТЬЯНА</firstname>\n",
      "\t\t\t\t<middlename>НИКОЛАЕВНА</middlename>\n",
      "\t\t\t\t<birthday>11.10.1975</birthday>\n",
      "\t\t\t\t<birthplace>ПОС. ПУДОСТЬ ГАТЧИНСКИЙ Р-Н ЛЕНИНГРАДСКАЯ ОБЛ.</birthplace>\n",
      "\t\t\t\t<doc>\n",
      "\t\t\t\t\t<doctype>1</doctype>\n",
      "\t\t\t\t\t<docno>4100143407</docno>\n",
      "\t\t\t\t\t<docdate>30.08.2000</docdate>\n",
      "\t\t\t\t\t<docplace>473-019</docplace>\n",
      "\t\t\t\t</doc>\n",
      "\t\t\t\t<pfno>05009766042</pfno>\n",
      "\t\t\t</history_title>\n",
      "\t\t\t<history_title>\n",
      "\t\t\t\t<date>13.08.2018</date>\n",
      "\t\t\t\t<lastname>СЕЛИВАНОВА</lastname>\n",
      "\t\t\t\t<firstname>ТАТЬЯНА</firstname>\n",
      "\t\t\t\t<middlename>НИКОЛАЕВНА</middlename>\n",
      "\t\t\t\t<birthday>11.10.1975</birthday>\n",
      "\t\t\t\t<birthplace>ПОС.ПУДОСТЬ ГАТЧИНСКИЙ Р-Н ЛЕНИНГРАДСКАЯ ОБЛ.</birthplace>\n",
      "\t\t\t\t<doc>\n",
      "\t\t\t\t\t<doctype>1</doctype>\n",
      "\t\t\t\t\t<docno>4100143407</docno>\n",
      "\t\t\t\t\t<docdate>30.08.2000</docdate>\n",
      "\t\t\t\t\t<docplace>ТАИЦКИМ ОТДЕЛЕНИЕМ МИЛИЦИИ ГАТЧИНСКОГО УВД ЛЕНИНГРАДСКОЙ ОБЛ. </docplace>\n",
      "\t\t\t\t</doc>\n",
      "\t\t\t</history_title>\n",
      "\t\t\t<history_title>\n",
      "\t\t\t\t<date>14.08.2018</date>\n",
      "\t\t\t\t<lastname>СЕЛИВАНОВА</lastname>\n",
      "\t\t\t\t<firstname>ТАТЬЯНА</firstname>\n",
      "\t\t\t\t<middlename>НИКОЛАЕВНА</middlename>\n",
      "\t\t\t\t<birthday>11.10.1975</birthday>\n",
      "\t\t\t\t<birthplace>ПОС. ПУДОСТЬ ГАТЧИНСКИЙ Р-Н ЛЕНИНГРАДСКАЯ ОБЛ.</birthplace>\n",
      "\t\t\t\t<doc>\n",
      "\t\t\t\t\t<doctype>1</doctype>\n",
      "\t\t\t\t\t<docno>4100143407</docno>\n",
      "\t\t\t\t\t<docdate>30.08.2000</docdate>\n",
      "\t\t\t\t\t<docplace>ТАИЦКОЕ ОМ ГАТЧИНСКОГО Р-НА ЛЕНИНГРАДСКОЙ ОБЛ.</docplace>\n",
      "\t\t\t\t</doc>\n",
      "\t\t\t</history_title>\n",
      "\t\t\t<history_title>\n",
      "\t\t\t\t<date>03.10.2018</date>\n",
      "\t\t\t\t<lastname>СЕЛИВАНОВА</lastname>\n",
      "\t\t\t\t<firstname>ТАТЬЯНА</firstname>\n",
      "\t\t\t\t<middlename>НИКОЛАЕВНА</middlename>\n",
      "\t\t\t\t<birthday>11.10.1975</birthday>\n",
      "\t\t\t\t<birthplace>ПОС.ПУДОСТЬ ЛЕНИНГРАДСКОЙ ОБЛ.</birthplace>\n",
      "\t\t\t\t<doc>\n",
      "\t\t\t\t\t<doctype>1</doctype>\n",
      "\t\t\t\t\t<docno>4100143407</docno>\n",
      "\t\t\t\t\t<docdate>30.08.2000</docdate>\n",
      "\t\t\t\t\t<docplace>ТАИЦКИМ ОМ ГАТЧИНСКОГО Р-НА ЛО </docplace>\n",
      "\t\t\t\t</doc>\n",
      "\t\t\t</history_title>\n",
      "\t\t\t<history_title>\n",
      "\t\t\t\t<date>18.12.2018</date>\n",
      "\t\t\t\t<lastname>СЕЛИВАНОВА</lastname>\n",
      "\t\t\t\t<firstname>ТАТЬЯНА</firstname>\n",
      "\t\t\t\t<middlename>НИКОЛАЕВНА</middlename>\n",
      "\t\t\t\t<birthday>11.10.1975</birthday>\n",
      "\t\t\t\t<birthplace>ПОС. ПУДОСТЬ ГАТЧИНСКИЙ Р-Н ЛЕНИНГРАДСКАЯ ОБЛ.</birthplace>\n",
      "\t\t\t\t<doc>\n",
      "\t\t\t\t\t<doctype>1</doctype>\n",
      "\t\t\t\t\t<docno>4100143407</docno>\n",
      "\t\t\t\t\t<docdate>30.08.2000</docdate>\n",
      "\t\t\t\t\t<docplace>ТАИЦКИМ ОТДЕЛЕНИЕМ МИЛИЦИИ ГАТЧИНСКОГО УВД ЛЕНИНГРАДСКОЙ ОБЛ. 473-019 </docplace>\n",
      "\t\t\t\t</doc>\n",
      "\t\t\t</history_title>\n",
      "\t\t\t<history_title>\n",
      "\t\t\t\t<date>04.03.2019</date>\n",
      "\t\t\t\t<lastname>СЕЛИВАНОВА</lastname>\n",
      "\t\t\t\t<firstname>ТАТЬЯНА</firstname>\n",
      "\t\t\t\t<middlename>НИКОЛАЕВНА</middlename>\n",
      "\t\t\t\t<birthday>11.10.1975</birthday>\n",
      "\t\t\t\t<birthplace>ПОС. ПУДОСТЬ ГАТЧИНСКИЙ Р-Н ЛЕНИНГРАДСКАЯ ОБЛ.</birthplace>\n",
      "\t\t\t\t<doc>\n",
      "\t\t\t\t\t<doctype>1</doctype>\n",
      "\t\t\t\t\t<docno>4100143407</docno>\n",
      "\t\t\t\t\t<docdate>30.08.2000</docdate>\n",
      "\t\t\t\t\t<docplace>ТАИЦКИМ ОМ ГАТЧИНСКОГО УВД ЛО</docplace>\n",
      "\t\t\t\t</doc>\n",
      "\t\t\t\t<pfno>05009766042</pfno>\n",
      "\t\t\t</history_title>\n",
      "\t\t\t<history_title>\n",
      "\t\t\t\t<date>01.08.2010</date>\n",
      "\t\t\t\t<lastname>СЕЛИВАНОВА</lastname>\n",
      "\t\t\t\t<firstname>ТАТЬЯНА</firstname>\n",
      "\t\t\t\t<middlename>НИКОЛАЕВНА</middlename>\n",
      "\t\t\t\t<birthday>11.10.1975</birthday>\n",
      "\t\t\t\t<birthplace>НЕТ ДАННЫХ</birthplace>\n",
      "\t\t\t\t<doc>\n",
      "\t\t\t\t\t<doctype>1</doctype>\n",
      "\t\t\t\t\t<docno>4100143407</docno>\n",
      "\t\t\t\t\t<docdate>30.08.2000</docdate>\n",
      "\t\t\t\t\t<docplace>ТАИЦКИМ ОМ ГАТЧИНСКОГО УВД ЛЕН.ОБЛ. </docplace>\n",
      "\t\t\t\t</doc>\n",
      "\t\t\t</history_title>\n",
      "\t\t\t<history_title>\n",
      "\t\t\t\t<date>26.11.2016</date>\n",
      "\t\t\t\t<lastname>СЕЛИВАНОВА</lastname>\n",
      "\t\t\t\t<firstname>ТАТЬЯНА</firstname>\n",
      "\t\t\t\t<middlename>НИКОЛАЕВНА</middlename>\n",
      "\t\t\t\t<birthday>11.10.1975</birthday>\n",
      "\t\t\t\t<birthplace>П.ПУДОСТЬ</birthplace>\n",
      "\t\t\t\t<doc>\n",
      "\t\t\t\t\t<doctype>1</doctype>\n",
      "\t\t\t\t\t<docno>4100143407</docno>\n",
      "\t\t\t\t\t<docdate>30.08.2000</docdate>\n",
      "\t\t\t\t\t<docplace>ТАИЦКИМ ОТДЕЛЕНИЕМ МИЛИЦИИ ГАТЧИНСКОГО РАЙОНА ЛЕНИНГРАДСКОЙ ОБЛАСТИ</docplace>\n",
      "\t\t\t\t</doc>\n",
      "\t\t\t</history_title>\n",
      "\t\t\t<history_title>\n",
      "\t\t\t\t<date>24.08.2017</date>\n",
      "\t\t\t\t<lastname>СЕЛИВАНОВА</lastname>\n",
      "\t\t\t\t<firstname>ТАТЬЯНА</firstname>\n",
      "\t\t\t\t<middlename>НИКОЛАЕВНА</middlename>\n",
      "\t\t\t\t<birthday>11.10.1975</birthday>\n",
      "\t\t\t\t<birthplace>ПОС.ПУДОСТЬ ГАТЧИНСКИЙ Р-Н ЛЕНИНГРАДСКАЯ ОБЛ.</birthplace>\n",
      "\t\t\t\t<doc>\n",
      "\t\t\t\t\t<doctype>1</doctype>\n",
      "\t\t\t\t\t<docno>4100143407</docno>\n",
      "\t\t\t\t\t<docdate>30.08.2000</docdate>\n",
      "\t\t\t\t\t<docplace>ТАИЦКИМ О/М ГАТЧИНСКОГО УВД ЛЕНИНГРАДСКОЙ ОБЛ.,473-019</docplace>\n",
      "\t\t\t\t</doc>\n",
      "\t\t\t</history_title>\n",
      "\t\t\t<history_title>\n",
      "\t\t\t\t<date>30.08.2017</date>\n",
      "\t\t\t\t<lastname>СЕЛИВАНОВА</lastname>\n",
      "\t\t\t\t<firstname>ТАТЬЯНА</firstname>\n",
      "\t\t\t\t<middlename>НИКОЛАЕВНА</middlename>\n",
      "\t\t\t\t<birthday>11.10.1975</birthday>\n",
      "\t\t\t\t<birthplace>ПОС.ПУДОСТЬ ЛЕНИНГРАДСКАЯ ОБЛ.</birthplace>\n",
      "\t\t\t\t<doc>\n",
      "\t\t\t\t\t<doctype>1</doctype>\n",
      "\t\t\t\t\t<docno>4100143407</docno>\n",
      "\t\t\t\t\t<docdate>30.08.2000</docdate>\n",
      "\t\t\t\t\t<docplace>ТАИЦКИМ ОМ ГАТЧИНСКОГО Р-НА ЛО</docplace>\n",
      "\t\t\t\t</doc>\n",
      "\t\t\t</history_title>\n",
      "\t\t\t<history_title>\n",
      "\t\t\t\t<date>06.09.2017</date>\n",
      "\t\t\t\t<lastname>СЕЛИВАНОВА</lastname>\n",
      "\t\t\t\t<firstname>ТАТЬЯНА</firstname>\n",
      "\t\t\t\t<middlename>НИКОЛАЕВНА</middlename>\n",
      "\t\t\t\t<birthday>11.10.1975</birthday>\n",
      "\t\t\t\t<birthplace>ПОС. ПУДОСТЬ ГАТЧИНСКИЙ Р-Н ЛЕНИНГРАДСКАЯ ОБЛ.</birthplace>\n",
      "\t\t\t\t<doc>\n",
      "\t\t\t\t\t<doctype>1</doctype>\n",
      "\t\t\t\t\t<docno>4100143407</docno>\n",
      "\t\t\t\t\t<docdate>30.08.2000</docdate>\n",
      "\t\t\t\t\t<docplace>ТАИЦКИМ ОТДЕЛЕНИЕМ МИЛИЦИИ ГАТЧИНСКОГО УВД ЛЕНИНГРАДСКОЙ ОБЛ. 473-019</docplace>\n",
      "\t\t\t\t</doc>\n",
      "\t\t\t</history_title>\n",
      "\t\t\t<history_title>\n",
      "\t\t\t\t<date>07.09.2017</date>\n",
      "\t\t\t\t<lastname>СЕЛИВАНОВА</lastname>\n",
      "\t\t\t\t<firstname>ТАТЬЯНА</firstname>\n",
      "\t\t\t\t<middlename>НИКОЛАЕВНА</middlename>\n",
      "\t\t\t\t<birthday>11.10.1975</birthday>\n",
      "\t\t\t\t<birthplace>ПОС.ПУДОСТЬ ГАТЧИНСКИЙ Р-Н ЛЕНИНГРАДСКАЯ ОБЛ.</birthplace>\n",
      "\t\t\t\t<doc>\n",
      "\t\t\t\t\t<doctype>1</doctype>\n",
      "\t\t\t\t\t<docno>4100143407</docno>\n",
      "\t\t\t\t\t<docdate>30.08.2000</docdate>\n",
      "\t\t\t\t\t<docplace>ТАИЦКИМ ОТДЕЛЕНИЕМ МИЛИЦИИ ГАТЧИНСКОГО УВД ЛЕНИНГРАДСКОЙ ОБЛ.</docplace>\n",
      "\t\t\t\t</doc>\n",
      "\t\t\t</history_title>\n",
      "\t\t\t<history_title>\n",
      "\t\t\t\t<date>21.11.2017</date>\n",
      "\t\t\t\t<lastname>СЕЛИВАНОВА</lastname>\n",
      "\t\t\t\t<firstname>ТАТЬЯНА</firstname>\n",
      "\t\t\t\t<middlename>НИКОЛАЕВНА</middlename>\n",
      "\t\t\t\t<birthday>11.10.1975</birthday>\n",
      "\t\t\t\t<birthplace>ПОС.ПУДОСТЬ ГАТЧИНСКИЙ Р-Н ЛЕНИНГРАДСКАЯ ОБЛ.</birthplace>\n",
      "\t\t\t\t<doc>\n",
      "\t\t\t\t\t<doctype>1</doctype>\n",
      "\t\t\t\t\t<docno>4100143407</docno>\n",
      "\t\t\t\t\t<docdate>30.08.2000</docdate>\n",
      "\t\t\t\t\t<docplace>ТАИЦКИМ О/М ГАТЧИНСКОГО УВД ЛЕНИНГРАДСКОЙ ОБЛ.,473-019 </docplace>\n",
      "\t\t\t\t</doc>\n",
      "\t\t\t</history_title>\n",
      "\t\t\t<history_title>\n",
      "\t\t\t\t<date>24.07.2014</date>\n",
      "\t\t\t\t<lastname>СЕЛИВАНОВА</lastname>\n",
      "\t\t\t\t<firstname>ТАТЬЯНА</firstname>\n",
      "\t\t\t\t<middlename>НИКОЛАЕВНА</middlename>\n",
      "\t\t\t\t<birthday>11.10.1975</birthday>\n",
      "\t\t\t\t<birthplace>ПОС. ПУДОСТЬ ГАТЧИНСКИЙ Р-Н ЛЕНИНГРАДСКАЯ ОБЛ.</birthplace>\n",
      "\t\t\t\t<doc>\n",
      "\t\t\t\t\t<doctype>1</doctype>\n",
      "\t\t\t\t\t<docno>4100143407</docno>\n",
      "\t\t\t\t\t<docdate>30.08.2000</docdate>\n",
      "\t\t\t\t\t<docplace>ТАИЦКИМ ОТДЕЛЕНИЕМ МИЛИЦИИ ГАТЧИНСКОГО УВД ЛЕНИНГРАДСКОЙ ОБЛ., 473-019</docplace>\n",
      "\t\t\t\t</doc>\n",
      "\t\t\t</history_title>\n",
      "\t\t</private>\n",
      "\t</title_part>\n",
      "\t<base_part>\n",
      "\t\t<addr_reg>RU, 188340, 00, БОЛЬШИЕ ТАЙЦЫ, УЛ.САНАТОРСКАЯ, Д.14, КВ.(ОФИС).45</addr_reg>\n",
      "\t\t<addr_fact>RU, 000000, 41, ГАТЧИНСКИЙ, ТАЙЦЫ, УЛ.СНТ ДАЧА, Д.3233</addr_fact>\n",
      "\t\t<history_addr>\n",
      "\t\t\t<addr_reg date=\"03.10.2018\">RU, 188340, 41, ТАЙЦЫ, УЛ.САНАТОРСКАЯ, Д.14, КВ.(ОФИС).45</addr_reg>\n",
      "\t\t\t<addr_reg date=\"13.08.2018\">RU, 188340, 41, Р-Н ГАТЧИНСКИЙ, ПГТ ТАЙЦЫ, УЛ.САНАТОРСКАЯ, Д.14, КВ.(ОФИС).45</addr_reg>\n",
      "\t\t\t<addr_reg date=\"09.08.2018\">RU, 188340, 41, ЛЕНИНГРАДСКАЯ, УЛ.САНАТОРСКАЯ, Д.14, КВ.(ОФИС).45</addr_reg>\n",
      "\t\t\t<addr_reg date=\"12.06.2018\">RU, 188340, 41, ГАТЧИНСКИЙ, ТАЙЦЫ, УЛ.САНАТОРСКАЯ, Д.14, КВ.(ОФИС).45</addr_reg>\n",
      "\t\t\t<addr_reg date=\"25.02.2018\">RU, 188340, 41, ТАЙЦЫ ПГТ, УЛ.САНАТОРСКАЯ УЛ, Д.14, КВ.(ОФИС).45</addr_reg>\n",
      "\t\t\t<addr_reg date=\"07.09.2017\">RU, 188340, 41, ГАТЧИНСКИЙ, ТАЙЦЫ, УЛ.УЛ САНАТОРСКАЯ, Д.14, КВ.(ОФИС).45</addr_reg>\n",
      "\t\t\t<addr_reg date=\"30.08.2017\">RU, 188340, 00, РАЙОН ГАТЧИНСКИЙ ТАЙЦЫ ПГТ, УЛ.ИСТИНКА, Д.14, КВ.(ОФИС).45</addr_reg>\n",
      "\t\t\t<addr_reg date=\"24.08.2017\">RU, 188340, 00, ТАЙЦЫ, УЛ.УЛ САНАТОРСКАЯ</addr_reg>\n",
      "\t\t\t<addr_reg date=\"26.11.2016\">RU, 188340, 00, ПГТ ТАЙЦЫ, УЛ.УЛ САНАТОРСКАЯ, Д.14, КВ.(ОФИС).45</addr_reg>\n",
      "\t\t\t<addr_reg date=\"24.07.2014\">RU, 188000, 41, ГАТЧИНСКИЙ, ТАЙЦЫ, УЛ.САНАТОРСКАЯ, Д.14, КВ.(ОФИС).45</addr_reg>\n",
      "\t\t\t<addr_reg date=\"01.08.2010\">190000, ГАТЧИНА, УЛ.САНАТОРСКАЯ, Д.14, СТР.ЯД, КВ.(ОФИС).45</addr_reg>\n",
      "\t\t\t<addr_fact date=\"23.02.2019\">RU, 188340, 00, БОЛЬШИЕ ТАЙЦЫ, УЛ.САНАТОРСКАЯ, Д.14, КВ.(ОФИС).45</addr_fact>\n",
      "\t\t\t<addr_fact date=\"03.10.2018\">RU, 188340, 41, ТАЙЦЫ, УЛ.САНАТОРСКАЯ, Д.14, КВ.(ОФИС).45</addr_fact>\n",
      "\t\t\t<addr_fact date=\"13.08.2018\">RU, 188340, 41, Р-Н ГАТЧИНСКИЙ, МАССИВ ТАЙЦЫ, УЛ.МАССИВ ТАЙЦЫ, Д.32</addr_fact>\n",
      "\t\t\t<addr_fact date=\"09.08.2018\">RU, 188340, 41, ЛЕНИНГРАДСКАЯ ОБЛ, ГАТЧИНСКИЙ Р-Н, МАССИВ ТАЙЦЫ, СНТ ДАЧА, УЛ.4 ЛИНИЯ, Д.32</addr_fact>\n",
      "\t\t\t<addr_fact date=\"12.06.2018\">RU, 188340, 41, ГАТЧИНСКИЙ, ТАЙЦЫ, УЛ.САНАТОРСКАЯ, Д.14, КВ.(ОФИС).45</addr_fact>\n",
      "\t\t\t<addr_fact date=\"25.02.2018\">RU, 000000, 41, ТАЙЦЫ МАССИВ, УЛ.СНТ ДАЧА УЛ, Д.32-33</addr_fact>\n",
      "\t\t\t<addr_fact date=\"07.09.2017\">RU, 000000, 41, ГАТЧИНСКИЙ, ТАЙЦЫ, УЛ.УЛ САНАТОРСКАЯ, Д.14, КВ.(ОФИС).45</addr_fact>\n",
      "\t\t\t<addr_fact date=\"30.08.2017\">RU, 188340, 00, РАЙОНГАТЧИНСКИЙМАССИВТАЙЦЫСНТД, УЛ.ИСТИНКА, Д.32</addr_fact>\n",
      "\t\t\t<addr_fact date=\"24.08.2017\">RU, 188340, 00, ТАЙЦЫ, УЛ.УЛ САНАТОРСКАЯ</addr_fact>\n",
      "\t\t\t<addr_fact date=\"08.12.2016\">RU, 188340, 00, МАССИВ ТАЙЦЫ/СНТ ДАЧА, УЛ.МАССИВ ТАЙЦЫ/СНТ ДАЧА, 33, Д.33</addr_fact>\n",
      "\t\t\t<addr_fact date=\"04.12.2016\">RU, 188340, 00, ПГТ ТАЙЦЫ, УЛ.УЛ САНАТОРСКАЯ, Д.14, КВ.(ОФИС).45</addr_fact>\n",
      "\t\t\t<addr_fact date=\"26.11.2016\">RU, 188340, 00, МАССИВ ТАЙЦЫ/СНТ ДАЧА, УЛ.МАССИВ ТАЙЦЫ/СНТ ДАЧА, 33,, Д.33</addr_fact>\n",
      "\t\t\t<addr_fact date=\"22.09.2016\">99, 188000, 00, ГАТЧИНСКИЙ, ТАЙЦЫ, УЛ.СНТ &amp;quot;ДАЧА&amp;quot;, Д.33</addr_fact>\n",
      "\t\t\t<addr_fact date=\"24.07.2014\">RU, 188000, 41, ГАТЧИНСКИЙ, ТАЙЦЫ, УЛ.САНАТОРСКАЯ, Д.14, КВ.(ОФИС).45</addr_fact>\n",
      "\t\t\t<addr_fact date=\"14.08.2018\">RU, 188340, 41, ЛЕНИНГРАДСКАЯ ОБЛ, ГАТЧИНСКИЙ Р-Н, МАССИВ ТАЙЦЫ, С, УЛ.4 ЛИНИЯ, Д.32</addr_fact>\n",
      "\t\t\t<addr_fact date=\"01.08.2010\">190000, ГАТЧИНА, УЛ.САНАТОРСКАЯ, Д.14, СТР.ЯД, КВ.(ОФИС).45</addr_fact>\n",
      "\t\t</history_addr>\n",
      "\t\t<credit>\n",
      "\t\t\t<cred_id>543662632</cred_id>\n",
      "\t\t\t<cred_first_load>29.10.2007</cred_first_load>\n",
      "\t\t\t<cred_owner>0</cred_owner>\n",
      "\t\t\t<cred_partner_type>1</cred_partner_type>\n",
      "\t\t\t<cred_person_num>1</cred_person_num>\n",
      "\t\t\t<cred_ratio>0</cred_ratio>\n",
      "\t\t\t<cred_sum>70000.00</cred_sum>\n",
      "\t\t\t<cred_sum_first>70000.00</cred_sum_first>\n",
      "\t\t\t<cred_currency>RUR</cred_currency>\n",
      "\t\t\t<cred_date>29.10.2007</cred_date>\n",
      "\t\t\t<cred_enddate>29.10.2008</cred_enddate>\n",
      "\t\t\t<cred_sum_payout>30487.00</cred_sum_payout>\n",
      "\t\t\t<cred_date_payout>18.06.2008</cred_date_payout>\n",
      "\t\t\t<cred_sum_debt>0</cred_sum_debt>\n",
      "\t\t\t<cred_sum_limit>0</cred_sum_limit>\n",
      "\t\t\t<delay5>4</delay5>\n",
      "\t\t\t<delay30>2</delay30>\n",
      "\t\t\t<delay60>1</delay60>\n",
      "\t\t\t<delay90>0</delay90>\n",
      "\t\t\t<delay_more>0</delay_more>\n",
      "\t\t\t<cred_sum_overdue>0.00</cred_sum_overdue>\n",
      "\t\t\t<cred_day_overdue>0</cred_day_overdue>\n",
      "\t\t\t<cred_max_overdue>6076.00</cred_max_overdue>\n",
      "\t\t\t<cred_prolong>0</cred_prolong>\n",
      "\t\t\t<cred_collateral>0</cred_collateral>\n",
      "\t\t\t<cred_update>02.08.2008</cred_update>\n",
      "\t\t\t<cred_type>05</cred_type>\n",
      "\t\t\t<cred_active>0</cred_active>\n",
      "\t\t\t<cred_active_date>18.06.2008</cred_active_date>\n",
      "\t\t\t<cred_sum_type>0</cred_sum_type>\n",
      "\t\t</credit>\n",
      "\t\t<credit>\n",
      "\t\t\t<cred_id>543662642</cred_id>\n",
      "\t\t\t<cred_first_load>15.11.2007</cred_first_load>\n",
      "\t\t\t<cred_owner>0</cred_owner>\n",
      "\t\t\t<cred_partner_type>1</cred_partner_type>\n",
      "\t\t\t<cred_person_num>1</cred_person_num>\n",
      "\t\t\t<cred_ratio>0</cred_ratio>\n",
      "\t\t\t<cred_sum>0.00</cred_sum>\n",
      "\t\t\t<cred_sum_first>35000.00</cred_sum_first>\n",
      "\t\t\t<cred_currency>RUR</cred_currency>\n",
      "\t\t\t<cred_date>29.10.2007</cred_date>\n",
      "\t\t\t<cred_sum_payout>1679.00</cred_sum_payout>\n",
      "\t\t\t<cred_date_payout>20.06.2008</cred_date_payout>\n",
      "\t\t\t<cred_sum_debt>0</cred_sum_debt>\n",
      "\t\t\t<cred_sum_limit>0</cred_sum_limit>\n",
      "\t\t\t<delay5>3</delay5>\n",
      "\t\t\t<delay30>0</delay30>\n",
      "\t\t\t<delay60>0</delay60>\n",
      "\t\t\t<delay90>0</delay90>\n",
      "\t\t\t<delay_more>0</delay_more>\n",
      "\t\t\t<cred_sum_overdue>0.00</cred_sum_overdue>\n",
      "\t\t\t<cred_day_overdue>0</cred_day_overdue>\n",
      "\t\t\t<cred_max_overdue>2272.00</cred_max_overdue>\n",
      "\t\t\t<cred_prolong>0</cred_prolong>\n",
      "\t\t\t<cred_collateral>0</cred_collateral>\n",
      "\t\t\t<cred_update>04.08.2008</cred_update>\n",
      "\t\t\t<cred_type>04</cred_type>\n",
      "\t\t\t<cred_active>0</cred_active>\n",
      "\t\t\t<cred_active_date>20.06.2008</cred_active_date>\n",
      "\t\t\t<cred_sum_type>0</cred_sum_type>\n",
      "\t\t</credit>\n",
      "\t\t<credit>\n",
      "\t\t\t<cred_id>1041310945</cred_id>\n",
      "\t\t\t<cred_first_load>31.08.2012</cred_first_load>\n",
      "\t\t\t<cred_owner>0</cred_owner>\n",
      "\t\t\t<cred_partner_type>1</cred_partner_type>\n",
      "\t\t\t<cred_person_num>1</cred_person_num>\n",
      "\t\t\t<cred_ratio>0</cred_ratio>\n",
      "\t\t\t<cred_sum>883183.00</cred_sum>\n",
      "\t\t\t<cred_sum_first>883183.00</cred_sum_first>\n",
      "\t\t\t<cred_currency>RUR</cred_currency>\n",
      "\t\t\t<cred_date>21.08.2012</cred_date>\n",
      "\t\t\t<cred_enddate>19.08.2017</cred_enddate>\n",
      "\t\t\t<cred_sum_payout>0</cred_sum_payout>\n",
      "\t\t\t<cred_date_payout>03.10.2013</cred_date_payout>\n",
      "\t\t\t<cred_date_percent>19.08.2017</cred_date_percent>\n",
      "\t\t\t<cred_sum_debt>0</cred_sum_debt>\n",
      "\t\t\t<cred_sum_limit>0</cred_sum_limit>\n",
      "\t\t\t<delay5>0</delay5>\n",
      "\t\t\t<delay30>0</delay30>\n",
      "\t\t\t<delay60>0</delay60>\n",
      "\t\t\t<delay90>0</delay90>\n",
      "\t\t\t<delay_more>0</delay_more>\n",
      "\t\t\t<cred_sum_overdue>0.00</cred_sum_overdue>\n",
      "\t\t\t<cred_day_overdue>0</cred_day_overdue>\n",
      "\t\t\t<cred_max_overdue>0.00</cred_max_overdue>\n",
      "\t\t\t<cred_prolong>0</cred_prolong>\n",
      "\t\t\t<cred_collateral>0</cred_collateral>\n",
      "\t\t\t<cred_update>03.10.2013</cred_update>\n",
      "\t\t\t<cred_type>01</cred_type>\n",
      "\t\t\t<cred_active>0</cred_active>\n",
      "\t\t\t<cred_active_date>03.10.2013</cred_active_date>\n",
      "\t\t\t<cred_sum_type>1</cred_sum_type>\n",
      "\t\t</credit>\n",
      "\t\t<credit>\n",
      "\t\t\t<cred_id>1041310955</cred_id>\n",
      "\t\t\t<cred_first_load>31.08.2012</cred_first_load>\n",
      "\t\t\t<cred_owner>0</cred_owner>\n",
      "\t\t\t<cred_partner_type>1</cred_partner_type>\n",
      "\t\t\t<cred_person_num>1</cred_person_num>\n",
      "\t\t\t<cred_ratio>0</cred_ratio>\n",
      "\t\t\t<cred_sum>96000.00</cred_sum>\n",
      "\t\t\t<cred_sum_first>74000.00</cred_sum_first>\n",
      "\t\t\t<cred_currency>RUR</cred_currency>\n",
      "\t\t\t<cred_date>22.08.2012</cred_date>\n",
      "\t\t\t<cred_enddate>31.10.2016</cred_enddate>\n",
      "\t\t\t<cred_sum_payout>90958.00</cred_sum_payout>\n",
      "\t\t\t<cred_date_payout>16.11.2015</cred_date_payout>\n",
      "\t\t\t<op_cred_sum_paid>2467056.00</op_cred_sum_paid>\n",
      "\t\t\t<ta_cred_sum_paid>2475968.00</ta_cred_sum_paid>\n",
      "\t\t\t<cred_sum_debt>0</cred_sum_debt>\n",
      "\t\t\t<cred_sum_limit>0</cred_sum_limit>\n",
      "\t\t\t<cred_facility>9</cred_facility>\n",
      "\t\t\t<delay5>0</delay5>\n",
      "\t\t\t<delay30>0</delay30>\n",
      "\t\t\t<delay60>0</delay60>\n",
      "\t\t\t<delay90>0</delay90>\n",
      "\t\t\t<delay_more>0</delay_more>\n",
      "\t\t\t<cred_sum_overdue>0.00</cred_sum_overdue>\n",
      "\t\t\t<cred_day_overdue>0</cred_day_overdue>\n",
      "\t\t\t<cred_max_overdue>0.00</cred_max_overdue>\n",
      "\t\t\t<cred_prolong>1</cred_prolong>\n",
      "\t\t\t<cred_collateral>0</cred_collateral>\n",
      "\t\t\t<cred_update>20.01.2016</cred_update>\n",
      "\t\t\t<cred_type>04</cred_type>\n",
      "\t\t\t<cred_active>0</cred_active>\n",
      "\t\t\t<cred_active_date>20.01.2016</cred_active_date>\n",
      "\t\t\t<cred_sum_type>0</cred_sum_type>\n",
      "\t\t</credit>\n",
      "\t\t<credit>\n",
      "\t\t\t<cred_id>1077088045</cred_id>\n",
      "\t\t\t<cred_first_load>21.10.2013</cred_first_load>\n",
      "\t\t\t<cred_owner>0</cred_owner>\n",
      "\t\t\t<cred_partner_type>1</cred_partner_type>\n",
      "\t\t\t<cred_person_num>1</cred_person_num>\n",
      "\t\t\t<cred_ratio>0</cred_ratio>\n",
      "\t\t\t<cred_sum>150000.00</cred_sum>\n",
      "\t\t\t<cred_sum_first>150000.00</cred_sum_first>\n",
      "\t\t\t<cred_currency>RUR</cred_currency>\n",
      "\t\t\t<cred_date>21.10.2013</cred_date>\n",
      "\t\t\t<cred_enddate>15.07.2015</cred_enddate>\n",
      "\t\t\t<cred_sum_payout>7106.00</cred_sum_payout>\n",
      "\t\t\t<cred_date_payout>01.07.2015</cred_date_payout>\n",
      "\t\t\t<op_cred_sum_paid>150000.00</op_cred_sum_paid>\n",
      "\t\t\t<ta_cred_sum_paid>170611.00</ta_cred_sum_paid>\n",
      "\t\t\t<cred_sum_debt>0</cred_sum_debt>\n",
      "\t\t\t<cred_sum_limit>0</cred_sum_limit>\n",
      "\t\t\t<cred_facility>9</cred_facility>\n",
      "\t\t\t<delay5>0</delay5>\n",
      "\t\t\t<delay30>0</delay30>\n",
      "\t\t\t<delay60>0</delay60>\n",
      "\t\t\t<delay90>0</delay90>\n",
      "\t\t\t<delay_more>0</delay_more>\n",
      "\t\t\t<cred_sum_overdue>0.00</cred_sum_overdue>\n",
      "\t\t\t<cred_day_overdue>0</cred_day_overdue>\n",
      "\t\t\t<cred_max_overdue>0.00</cred_max_overdue>\n",
      "\t\t\t<cred_prolong>0</cred_prolong>\n",
      "\t\t\t<cred_collateral>0</cred_collateral>\n",
      "\t\t\t<cred_update>01.07.2015</cred_update>\n",
      "\t\t\t<cred_type>05</cred_type>\n",
      "\t\t\t<cred_active>0</cred_active>\n",
      "\t\t\t<cred_active_date>01.07.2015</cred_active_date>\n",
      "\t\t\t<cred_sum_type>0</cred_sum_type>\n",
      "\t\t</credit>\n",
      "\t\t<credit>\n",
      "\t\t\t<cred_id>1598658507</cred_id>\n",
      "\t\t\t<cred_first_load>08.07.2015</cred_first_load>\n",
      "\t\t\t<cred_owner>0</cred_owner>\n",
      "\t\t\t<cred_partner_type>1</cred_partner_type>\n",
      "\t\t\t<cred_person_num>1</cred_person_num>\n",
      "\t\t\t<cred_ratio>0</cred_ratio>\n",
      "\t\t\t<cred_sum>400000.00</cred_sum>\n",
      "\t\t\t<cred_sum_first>400000.00</cred_sum_first>\n",
      "\t\t\t<cred_currency>RUR</cred_currency>\n",
      "\t\t\t<cred_date>08.07.2015</cred_date>\n",
      "\t\t\t<cred_enddate>04.08.2020</cred_enddate>\n",
      "\t\t\t<cred_sum_payout>4230.00</cred_sum_payout>\n",
      "\t\t\t<cred_date_payout>04.08.2016</cred_date_payout>\n",
      "\t\t\t<op_cred_sum_paid>39465.00</op_cred_sum_paid>\n",
      "\t\t\t<ta_cred_sum_paid>143079.00</ta_cred_sum_paid>\n",
      "\t\t\t<cred_sum_debt>360535.00</cred_sum_debt>\n",
      "\t\t\t<cred_sum_limit>0.00</cred_sum_limit>\n",
      "\t\t\t<cred_facility>9</cred_facility>\n",
      "\t\t\t<delay5>0</delay5>\n",
      "\t\t\t<delay30>0</delay30>\n",
      "\t\t\t<delay60>0</delay60>\n",
      "\t\t\t<delay90>0</delay90>\n",
      "\t\t\t<delay_more>0</delay_more>\n",
      "\t\t\t<cred_sum_overdue>0.00</cred_sum_overdue>\n",
      "\t\t\t<cred_day_overdue>0</cred_day_overdue>\n",
      "\t\t\t<cred_max_overdue>0.00</cred_max_overdue>\n",
      "\t\t\t<cred_prolong>0</cred_prolong>\n",
      "\t\t\t<cred_collateral>0</cred_collateral>\n",
      "\t\t\t<cred_update>04.08.2016</cred_update>\n",
      "\t\t\t<cred_type>05</cred_type>\n",
      "\t\t\t<cred_active>1</cred_active>\n",
      "\t\t\t<cred_active_date>08.07.2015</cred_active_date>\n",
      "\t\t\t<cred_sum_type>0</cred_sum_type>\n",
      "\t\t\t<cred_full_cost>24.866</cred_full_cost>\n",
      "\t\t</credit>\n",
      "\t\t<credit>\n",
      "\t\t\t<cred_id>2643735377</cred_id>\n",
      "\t\t\t<cred_first_load>29.12.2007</cred_first_load>\n",
      "\t\t\t<cred_owner>0</cred_owner>\n",
      "\t\t\t<cred_partner_type>1</cred_partner_type>\n",
      "\t\t\t<cred_person_num>1</cred_person_num>\n",
      "\t\t\t<cred_ratio>0</cred_ratio>\n",
      "\t\t\t<cred_sum>90000.00</cred_sum>\n",
      "\t\t\t<cred_sum_first>90000.00</cred_sum_first>\n",
      "\t\t\t<cred_currency>RUR</cred_currency>\n",
      "\t\t\t<cred_date>20.12.2007</cred_date>\n",
      "\t\t\t<cred_enddate>20.12.2009</cred_enddate>\n",
      "\t\t\t<cred_sum_payout>4465.00</cred_sum_payout>\n",
      "\t\t\t<cred_date_payout>21.12.2009</cred_date_payout>\n",
      "\t\t\t<op_cred_sum_paid>90000.00</op_cred_sum_paid>\n",
      "\t\t\t<ta_cred_sum_paid>90000.00</ta_cred_sum_paid>\n",
      "\t\t\t<cred_sum_debt>0</cred_sum_debt>\n",
      "\t\t\t<cred_sum_limit>0</cred_sum_limit>\n",
      "\t\t\t<delay5>0</delay5>\n",
      "\t\t\t<delay30>0</delay30>\n",
      "\t\t\t<delay60>0</delay60>\n",
      "\t\t\t<delay90>0</delay90>\n",
      "\t\t\t<delay_more>0</delay_more>\n",
      "\t\t\t<cred_sum_overdue>0.00</cred_sum_overdue>\n",
      "\t\t\t<cred_day_overdue>0</cred_day_overdue>\n",
      "\t\t\t<cred_max_overdue>0.00</cred_max_overdue>\n",
      "\t\t\t<cred_prolong>0</cred_prolong>\n",
      "\t\t\t<cred_collateral>0</cred_collateral>\n",
      "\t\t\t<cred_update>09.04.2010</cred_update>\n",
      "\t\t\t<cred_type>05</cred_type>\n",
      "\t\t\t<cred_active>0</cred_active>\n",
      "\t\t\t<cred_active_date>31.12.2009</cred_active_date>\n",
      "\t\t\t<cred_sum_type>1</cred_sum_type>\n",
      "\t\t</credit>\n",
      "\t\t<credit>\n",
      "\t\t\t<cred_id>2649035627</cred_id>\n",
      "\t\t\t<cred_first_load>20.04.2010</cred_first_load>\n",
      "\t\t\t<cred_owner>0</cred_owner>\n",
      "\t\t\t<cred_partner_type>1</cred_partner_type>\n",
      "\t\t\t<cred_person_num>1</cred_person_num>\n",
      "\t\t\t<cred_ratio>0</cred_ratio>\n",
      "\t\t\t<cred_sum>80800.00</cred_sum>\n",
      "\t\t\t<cred_sum_first>80800.00</cred_sum_first>\n",
      "\t\t\t<cred_currency>RUR</cred_currency>\n",
      "\t\t\t<cred_date>19.02.2008</cred_date>\n",
      "\t\t\t<cred_enddate>28.02.2011</cred_enddate>\n",
      "\t\t\t<cred_sum_payout>433.00</cred_sum_payout>\n",
      "\t\t\t<cred_date_payout>20.06.2008</cred_date_payout>\n",
      "\t\t\t<op_cred_sum_paid>433.00</op_cred_sum_paid>\n",
      "\t\t\t<ta_cred_sum_paid>433.00</ta_cred_sum_paid>\n",
      "\t\t\t<cred_sum_debt>0</cred_sum_debt>\n",
      "\t\t\t<cred_sum_limit>0</cred_sum_limit>\n",
      "\t\t\t<cred_facility>2</cred_facility>\n",
      "\t\t\t<delay5>0</delay5>\n",
      "\t\t\t<delay30>0</delay30>\n",
      "\t\t\t<delay60>0</delay60>\n",
      "\t\t\t<delay90>0</delay90>\n",
      "\t\t\t<delay_more>0</delay_more>\n",
      "\t\t\t<cred_sum_overdue>0.00</cred_sum_overdue>\n",
      "\t\t\t<cred_day_overdue>0</cred_day_overdue>\n",
      "\t\t\t<cred_max_overdue>0.00</cred_max_overdue>\n",
      "\t\t\t<cred_prolong>0</cred_prolong>\n",
      "\t\t\t<cred_collateral>0</cred_collateral>\n",
      "\t\t\t<cred_update>20.04.2010</cred_update>\n",
      "\t\t\t<cred_type>04</cred_type>\n",
      "\t\t\t<cred_active>0</cred_active>\n",
      "\t\t\t<cred_active_date>02.07.2008</cred_active_date>\n",
      "\t\t\t<cred_sum_type>1</cred_sum_type>\n",
      "\t\t</credit>\n",
      "\t</base_part>\n",
      "\t<add_part>\n",
      "\t\t<interest>\n",
      "\t\t\t<hour>0</hour>\n",
      "\t\t\t<day>0</day>\n",
      "\t\t\t<week>1</week>\n",
      "\t\t\t<month>0</month>\n",
      "\t\t\t<quarter>1</quarter>\n",
      "\t\t\t<year>0</year>\n",
      "\t\t</interest>\n",
      "\t\t<own_interest>\n",
      "\t\t\t<hour>0</hour>\n",
      "\t\t\t<day>0</day>\n",
      "\t\t\t<week>1</week>\n",
      "\t\t\t<month>0</month>\n",
      "\t\t\t<quarter>0</quarter>\n",
      "\t\t\t<year>0</year>\n",
      "\t\t</own_interest>\n",
      "\t\t<info_requests>\n",
      "\t\t\t<request>\n",
      "\t\t\t\t<timeslot>week</timeslot>\n",
      "\t\t\t\t<cred_type>05</cred_type>\n",
      "\t\t\t\t<cred_currency>RUR</cred_currency>\n",
      "\t\t\t\t<cred_sum>20591.10</cred_sum>\n",
      "\t\t\t\t<cred_duration>12.00</cred_duration>\n",
      "\t\t\t\t<cred_partner_type>1</cred_partner_type>\n",
      "\t\t\t\t<request_owner>1</request_owner>\n",
      "\t\t\t</request>\n",
      "\t\t\t<request>\n",
      "\t\t\t\t<timeslot>quarter</timeslot>\n",
      "\t\t\t\t<cred_partner_type>1</cred_partner_type>\n",
      "\t\t\t\t<request_owner>0</request_owner>\n",
      "\t\t\t</request>\n",
      "\t\t</info_requests>\n",
      "\t\t<attrs>\n",
      "\t\t\t<package id=\"24\" name=\"Платежная дисциплина за все время жизни кредита\">\n",
      "\t\t\t\t<section id=\"23\" name=\"Кредитная часть (расширенная)\">\n",
      "\t\t\t\t\t<period>\n",
      "\t\t\t\t\t\t<attr c_i=\"543662632\" n=\"831\" v=\"CCCCCCCCCCCCCCCCCCCCCCCCCCCCCCCCCCCCCCCCCCCCCCCCCCCCCCCCCCCCCCCCCCCCCCCCCCCCCCCCCCCCCCCCCCCCCCCCCC321220100\"/>\n",
      "\t\t\t\t\t\t<attr c_i=\"543662642\" n=\"831\" v=\"CCCCCCCCCCCCCCCCCCCCCCCCCCCCCCCCCCCCCCCCCCCCCCCCCCCCCCCCCCCCCCCCCCCCCCCCCCCCCCCCCCCCCCCCCCCCCCCCCC10101000-\"/>\n",
      "\t\t\t\t\t\t<attr c_i=\"1041310945\" n=\"831\" v=\"CCCCCCCCCCCCCCCCCCCCCCCCCCCCCCCCCCC00000000000000\"/>\n",
      "\t\t\t\t\t\t<attr c_i=\"1041310955\" n=\"831\" v=\"CCCCCCCC00000000000000000000000000000000000000000\"/>\n",
      "\t\t\t\t\t\t<attr c_i=\"1077088045\" n=\"831\" v=\"CCCCCCCCCCCCCC000000000000000000000\"/>\n",
      "\t\t\t\t\t\t<attr c_i=\"1598658507\" n=\"831\" v=\"00000000000000\"/>\n",
      "\t\t\t\t\t\t<attr c_i=\"2643735377\" n=\"831\" v=\"CCCCCCCCCCCCCCCCCCCCCCCCCCCCCCCCCCCCCCCCCCCCCCCCCCCCCCCCCCCCCCCCCCCCCCCCCCCCCCCCC000000000000000000000000\"/>\n",
      "\t\t\t\t\t\t<attr c_i=\"2649035627\" n=\"831\" v=\"CCCCCCCCCCCCCCCCCCCCCCCCCCCCCCCCCCCCCCCCCCCCCCCCCCCCCCCCCCCCCCCCCCCCCCCCCCCCC--------------------------\"/>\n",
      "\t\t\t\t\t</period>\n",
      "\t\t\t\t</section>\n",
      "\t\t\t</package>\n",
      "\t\t</attrs>\n",
      "\t</add_part>\n",
      "</response>"
     ]
    }
   ],
   "source": [
    "print('\\n'.join(second_xml))"
   ]
  },
  {
   "cell_type": "code",
   "execution_count": 269,
   "metadata": {
    "collapsed": true
   },
   "outputs": [],
   "source": [
    "import xml.etree.ElementTree as ET\n",
    "import collections\n",
    "\n",
    "SEPARATOR = '_'\n",
    "\n",
    "class XmlDictConfig(dict):\n",
    "    '''\n",
    "    Example usage:\n",
    "    >>> tree = ElementTree.parse('your_file.xml')\n",
    "    >>> root = tree.getroot()\n",
    "    >>> xmldict = XmlDictConfig(root)\n",
    "    Or, if you want to use an XML string:\n",
    "    >>> root = ElementTree.XML(xml_string)\n",
    "    >>> xmldict = XmlDictConfig(root)\n",
    "    And then use xmldict for what it is... a dict.\n",
    "    '''\n",
    "    \n",
    "    def __init__(self, parent_element, sep=SEPARATOR):\n",
    "        if parent_element.attrib:\n",
    "            self.update(parent_element.attrib)\n",
    "        for element in parent_element:\n",
    "            if len(element) >= 1:\n",
    "                if len(element) == 1:\n",
    "                    aDict = XmlDictConfig(element)\n",
    "                else:\n",
    "                    unique_element = ET.Element(element.tag)\n",
    "                    \n",
    "                    tags_seen = []\n",
    "                    for sub_el in element:\n",
    "                        if sub_el.tag not in tags_seen:\n",
    "                            tags_seen.append(sub_el.tag)\n",
    "                            if len(element.findall(sub_el.tag)) > 1: # if there are more than 1 elements with this tag \n",
    "                                \n",
    "                                list_element = ET.Element(sub_el.tag)\n",
    "                                \n",
    "                                # find all elements with given tag and make them subelements of one element with the same tag\n",
    "                                for el in element.findall(sub_el.tag):\n",
    "                                    \n",
    "                                    list_element.append(el)\n",
    "                                    \n",
    "                                try:\n",
    "                                    aDict\n",
    "                                except NameError:\n",
    "                                    aDict = {list_element[0].tag: XmlListConfig(list_element)}\n",
    "                                else:\n",
    "                                    aDict.update({list_element[0].tag: XmlListConfig(list_element)})\n",
    "                            else:\n",
    "                                unique_element.append(sub_el)\n",
    "                    try:\n",
    "                        aDict\n",
    "                    except NameError:\n",
    "                        aDict = XmlDictConfig(unique_element)\n",
    "                    else:\n",
    "                        aDict.update(XmlDictConfig(unique_element))\n",
    "                        \n",
    "                if element.attrib:\n",
    "                    aDict.update(element.attrib)\n",
    "                self.update({element.tag: aDict})\n",
    "                del aDict\n",
    "            else:\n",
    "                if element.text:\n",
    "                    self.update({element.tag: element.text})\n",
    "                if element.attrib:\n",
    "                    self.update({element.tag + sep + k: v for k, v in element.items()})\n",
    "                else:\n",
    "                    self.update({element.tag: element.text})\n",
    "                    \n",
    "#     def __init__(self, parent_element, sep=SEPARATOR):\n",
    "#         if parent_element.attrib:\n",
    "#             self.update(parent_element.attrib)\n",
    "#         for element in parent_element:\n",
    "#             if len(element) >= 1:\n",
    "#                 # treat like dict - we assume that if the first two tags\n",
    "#                 # in a series are different, then they are all different.\n",
    "#                 if len(element) == 1 or element[0].tag != element[1].tag:\n",
    "#                     aDict = XmlDictConfig(element)\n",
    "#                 # treat like list - we assume that if the first two tags\n",
    "#                 # in a series are the same, then the rest are the same.\n",
    "#                 else:\n",
    "#                     aDict = {element[0].tag: XmlListConfig(element)}\n",
    "#                 if element.attrib:\n",
    "#                     aDict.update(element.attrib)\n",
    "#                 self.update({element.tag: aDict})\n",
    "#             else:\n",
    "#                 if element.text:\n",
    "#                     self.update({element.tag: element.text})\n",
    "#                 if element.attrib:\n",
    "#                     self.update({element.tag + sep + k: v for k, v in element.items()})\n",
    "#                 else:\n",
    "#                     self.update({element.tag: element.text})\n",
    "    \n",
    "\n",
    "\n",
    "\n",
    "class XmlListConfig(list):\n",
    "    def __init__(self, aList):\n",
    "        for element in aList:\n",
    "            if len(element) >= 1:\n",
    "                # treat like dict\n",
    "                if len(element) == 1 or element[0].tag != element[1].tag:\n",
    "                    self.append(XmlDictConfig(element))\n",
    "                # treat like list\n",
    "                elif element[0].tag == element[1].tag:\n",
    "                    self.append(XmlListConfig(element))\n",
    "            else:\n",
    "                lDict = {}\n",
    "                if element.text:\n",
    "                    text = element.text.strip()\n",
    "                    if text:\n",
    "                        lDict.update({'_VALUE': text})\n",
    "                        if element.attrib:\n",
    "                            lDict.update(element.attrib)\n",
    "                elif element.attrib:\n",
    "                    lDict.update(element.attrib)\n",
    "                if len(lDict) > 0:\n",
    "                    self.append(lDict)\n",
    "\n",
    "\n",
    "# def flatten(d, parent_key='', sep=SEPARATOR):\n",
    "#     items = []\n",
    "#     for k, v in d.items():\n",
    "#         new_key = parent_key + sep + k if parent_key else k\n",
    "#         #print(new_key)\n",
    "#         #if str(type(v)) == \"<class 'XmlDictConfig'>\" or (isinstance(v, dict)):\n",
    "#         if str(type(v)) == \"<class 'XmlDictConfig'>\":\n",
    "#             print(new_key)\n",
    "#             #print(new_key)\n",
    "#             items.extend(flatten(v, new_key, sep=sep).items())\n",
    "#         elif (str(type(v)) == \"<class 'XmlListConfig'>\"):\n",
    "#             print('list', new_key)\n",
    "#             attr_arr = []\n",
    "#             for el in v:\n",
    "#                 print(type(el))\n",
    "#                 if str(type(el)) == \"<class 'XmlDictConfig'>\":\n",
    "#                     attr_arr.append(flatten(el, new_key, sep=sep))\n",
    "#                 else:\n",
    "#                     print((new_key, el))\n",
    "#                     attr_arr.append({new_key: el})\n",
    "#                 #print({new_key: attr_arr})\n",
    "#             items.append((new_key, attr_arr))\n",
    "#         else:\n",
    "#             items.append((new_key, v))\n",
    "#     return dict(items)\n",
    "\n",
    "def flatten_row_type(d, parent_key='', sep=SEPARATOR):\n",
    "    items = []\n",
    "    for k, v in d.items():\n",
    "        new_key = parent_key + sep + k if parent_key else k\n",
    "        #print(new_key)\n",
    "        if isinstance(v, pyspark.sql.types.Row) or isinstance(v, collections.MutableMapping):\n",
    "            #print(new_key)\n",
    "            items.extend(flatten_row_type(v.asDict(), new_key, sep=sep).items())\n",
    "        elif isinstance(v, list):\n",
    "            print('list', new_key)\n",
    "            attr_arr = []\n",
    "            for el in v:\n",
    "                print(type(el))\n",
    "                attr_arr.append(flatten_row_type(el.asDict(), new_key, sep=sep))\n",
    "                #print({new_key: attr_arr})\n",
    "            items.append((new_key, attr_arr))\n",
    "        else:\n",
    "            items.append((new_key, v))\n",
    "    return dict(items)\n",
    "\n",
    "def flatten(d, parent_key='', sep=SEPARATOR):\n",
    "    items = []\n",
    "    for k, v in d.items():\n",
    "        new_key = parent_key + sep + k if parent_key else k\n",
    "        if isinstance(v, list):\n",
    "            flattened_elements = []\n",
    "            for el in v:\n",
    "                flattened_elements.append(flatten(el, new_key, sep))\n",
    "            items.append((new_key, flattened_elements))\n",
    "        elif isinstance(v, collections.MutableMapping):\n",
    "            items.extend(flatten(v, new_key, sep=sep).items())\n",
    "        else:\n",
    "            items.append((new_key, v))\n",
    "    return dict(items)\n",
    "\n",
    "\n",
    "def parseXML(xml):\n",
    "    if xml:\n",
    "        tmp = flatten(XmlDictConfig(ET.fromstring(xml.encode('utf8'))))\n",
    "        for a in tmp:\n",
    "            if (type(tmp[a])) == XmlListConfig:\n",
    "                tmp[a] = list(tmp[a])\n",
    "        return tmp #.items()\n",
    "    else:\n",
    "        return []"
   ]
  },
  {
   "cell_type": "code",
   "execution_count": 270,
   "metadata": {
    "collapsed": true,
    "scrolled": true
   },
   "outputs": [],
   "source": [
    "second_xml_str = '\\n'.join(second_xml)"
   ]
  },
  {
   "cell_type": "code",
   "execution_count": 271,
   "metadata": {
    "collapsed": true,
    "scrolled": false
   },
   "outputs": [],
   "source": [
    "second_xml_dict = XmlDictConfig(ET.XML(second_xml_str))"
   ]
  },
  {
   "cell_type": "code",
   "execution_count": 272,
   "metadata": {
    "scrolled": true
   },
   "outputs": [
    {
     "name": "stdout",
     "output_type": "stream",
     "text": [
      "{'num': '120297472', 'dateofreport': '01.09.2016', 'report_type': '1234571467', 'responsecode': '1', 'responsestring': 'Клиент найден и у него есть кредитная история', 'title_part': {'private': {'history_title': [{'date': '12.06.2018', 'lastname': 'СЕЛИВАНОВА', 'firstname': 'ТАТЬЯНА', 'middlename': 'НИКОЛАЕВНА', 'birthday': '11.10.1975', 'birthplace': 'ПОС. ПУДОСТЬ ГАТЧИНСКИЙ Р-Н ЛЕНИНГРАДСКАЯ ОБЛ.', 'doc': {'doctype': '1', 'docno': '4100143407', 'docdate': '30.08.2000', 'docplace': 'ТАИЦКИМ ОМ ГАТЧИНСКОГО УВД ЛО '}, 'pfno': '05009766042'}, {'date': '09.08.2018', 'lastname': 'СЕЛИВАНОВА', 'firstname': 'ТАТЬЯНА', 'middlename': 'НИКОЛАЕВНА', 'birthday': '11.10.1975', 'birthplace': 'ПОС. ПУДОСТЬ ГАТЧИНСКИЙ Р-Н ЛЕНИНГРАДСКАЯ ОБЛ.', 'doc': {'doctype': '1', 'docno': '4100143407', 'docdate': '30.08.2000', 'docplace': '473-019'}, 'pfno': '05009766042'}, {'date': '13.08.2018', 'lastname': 'СЕЛИВАНОВА', 'firstname': 'ТАТЬЯНА', 'middlename': 'НИКОЛАЕВНА', 'birthday': '11.10.1975', 'birthplace': 'ПОС.ПУДОСТЬ ГАТЧИНСКИЙ Р-Н ЛЕНИНГРАДСКАЯ ОБЛ.', 'doc': {'doctype': '1', 'docno': '4100143407', 'docdate': '30.08.2000', 'docplace': 'ТАИЦКИМ ОТДЕЛЕНИЕМ МИЛИЦИИ ГАТЧИНСКОГО УВД ЛЕНИНГРАДСКОЙ ОБЛ. '}}, {'date': '14.08.2018', 'lastname': 'СЕЛИВАНОВА', 'firstname': 'ТАТЬЯНА', 'middlename': 'НИКОЛАЕВНА', 'birthday': '11.10.1975', 'birthplace': 'ПОС. ПУДОСТЬ ГАТЧИНСКИЙ Р-Н ЛЕНИНГРАДСКАЯ ОБЛ.', 'doc': {'doctype': '1', 'docno': '4100143407', 'docdate': '30.08.2000', 'docplace': 'ТАИЦКОЕ ОМ ГАТЧИНСКОГО Р-НА ЛЕНИНГРАДСКОЙ ОБЛ.'}}, {'date': '03.10.2018', 'lastname': 'СЕЛИВАНОВА', 'firstname': 'ТАТЬЯНА', 'middlename': 'НИКОЛАЕВНА', 'birthday': '11.10.1975', 'birthplace': 'ПОС.ПУДОСТЬ ЛЕНИНГРАДСКОЙ ОБЛ.', 'doc': {'doctype': '1', 'docno': '4100143407', 'docdate': '30.08.2000', 'docplace': 'ТАИЦКИМ ОМ ГАТЧИНСКОГО Р-НА ЛО '}}, {'date': '18.12.2018', 'lastname': 'СЕЛИВАНОВА', 'firstname': 'ТАТЬЯНА', 'middlename': 'НИКОЛАЕВНА', 'birthday': '11.10.1975', 'birthplace': 'ПОС. ПУДОСТЬ ГАТЧИНСКИЙ Р-Н ЛЕНИНГРАДСКАЯ ОБЛ.', 'doc': {'doctype': '1', 'docno': '4100143407', 'docdate': '30.08.2000', 'docplace': 'ТАИЦКИМ ОТДЕЛЕНИЕМ МИЛИЦИИ ГАТЧИНСКОГО УВД ЛЕНИНГРАДСКОЙ ОБЛ. 473-019 '}}, {'date': '04.03.2019', 'lastname': 'СЕЛИВАНОВА', 'firstname': 'ТАТЬЯНА', 'middlename': 'НИКОЛАЕВНА', 'birthday': '11.10.1975', 'birthplace': 'ПОС. ПУДОСТЬ ГАТЧИНСКИЙ Р-Н ЛЕНИНГРАДСКАЯ ОБЛ.', 'doc': {'doctype': '1', 'docno': '4100143407', 'docdate': '30.08.2000', 'docplace': 'ТАИЦКИМ ОМ ГАТЧИНСКОГО УВД ЛО'}, 'pfno': '05009766042'}, {'date': '01.08.2010', 'lastname': 'СЕЛИВАНОВА', 'firstname': 'ТАТЬЯНА', 'middlename': 'НИКОЛАЕВНА', 'birthday': '11.10.1975', 'birthplace': 'НЕТ ДАННЫХ', 'doc': {'doctype': '1', 'docno': '4100143407', 'docdate': '30.08.2000', 'docplace': 'ТАИЦКИМ ОМ ГАТЧИНСКОГО УВД ЛЕН.ОБЛ. '}}, {'date': '26.11.2016', 'lastname': 'СЕЛИВАНОВА', 'firstname': 'ТАТЬЯНА', 'middlename': 'НИКОЛАЕВНА', 'birthday': '11.10.1975', 'birthplace': 'П.ПУДОСТЬ', 'doc': {'doctype': '1', 'docno': '4100143407', 'docdate': '30.08.2000', 'docplace': 'ТАИЦКИМ ОТДЕЛЕНИЕМ МИЛИЦИИ ГАТЧИНСКОГО РАЙОНА ЛЕНИНГРАДСКОЙ ОБЛАСТИ'}}, {'date': '24.08.2017', 'lastname': 'СЕЛИВАНОВА', 'firstname': 'ТАТЬЯНА', 'middlename': 'НИКОЛАЕВНА', 'birthday': '11.10.1975', 'birthplace': 'ПОС.ПУДОСТЬ ГАТЧИНСКИЙ Р-Н ЛЕНИНГРАДСКАЯ ОБЛ.', 'doc': {'doctype': '1', 'docno': '4100143407', 'docdate': '30.08.2000', 'docplace': 'ТАИЦКИМ О/М ГАТЧИНСКОГО УВД ЛЕНИНГРАДСКОЙ ОБЛ.,473-019'}}, {'date': '30.08.2017', 'lastname': 'СЕЛИВАНОВА', 'firstname': 'ТАТЬЯНА', 'middlename': 'НИКОЛАЕВНА', 'birthday': '11.10.1975', 'birthplace': 'ПОС.ПУДОСТЬ ЛЕНИНГРАДСКАЯ ОБЛ.', 'doc': {'doctype': '1', 'docno': '4100143407', 'docdate': '30.08.2000', 'docplace': 'ТАИЦКИМ ОМ ГАТЧИНСКОГО Р-НА ЛО'}}, {'date': '06.09.2017', 'lastname': 'СЕЛИВАНОВА', 'firstname': 'ТАТЬЯНА', 'middlename': 'НИКОЛАЕВНА', 'birthday': '11.10.1975', 'birthplace': 'ПОС. ПУДОСТЬ ГАТЧИНСКИЙ Р-Н ЛЕНИНГРАДСКАЯ ОБЛ.', 'doc': {'doctype': '1', 'docno': '4100143407', 'docdate': '30.08.2000', 'docplace': 'ТАИЦКИМ ОТДЕЛЕНИЕМ МИЛИЦИИ ГАТЧИНСКОГО УВД ЛЕНИНГРАДСКОЙ ОБЛ. 473-019'}}, {'date': '07.09.2017', 'lastname': 'СЕЛИВАНОВА', 'firstname': 'ТАТЬЯНА', 'middlename': 'НИКОЛАЕВНА', 'birthday': '11.10.1975', 'birthplace': 'ПОС.ПУДОСТЬ ГАТЧИНСКИЙ Р-Н ЛЕНИНГРАДСКАЯ ОБЛ.', 'doc': {'doctype': '1', 'docno': '4100143407', 'docdate': '30.08.2000', 'docplace': 'ТАИЦКИМ ОТДЕЛЕНИЕМ МИЛИЦИИ ГАТЧИНСКОГО УВД ЛЕНИНГРАДСКОЙ ОБЛ.'}}, {'date': '21.11.2017', 'lastname': 'СЕЛИВАНОВА', 'firstname': 'ТАТЬЯНА', 'middlename': 'НИКОЛАЕВНА', 'birthday': '11.10.1975', 'birthplace': 'ПОС.ПУДОСТЬ ГАТЧИНСКИЙ Р-Н ЛЕНИНГРАДСКАЯ ОБЛ.', 'doc': {'doctype': '1', 'docno': '4100143407', 'docdate': '30.08.2000', 'docplace': 'ТАИЦКИМ О/М ГАТЧИНСКОГО УВД ЛЕНИНГРАДСКОЙ ОБЛ.,473-019 '}}, {'date': '24.07.2014', 'lastname': 'СЕЛИВАНОВА', 'firstname': 'ТАТЬЯНА', 'middlename': 'НИКОЛАЕВНА', 'birthday': '11.10.1975', 'birthplace': 'ПОС. ПУДОСТЬ ГАТЧИНСКИЙ Р-Н ЛЕНИНГРАДСКАЯ ОБЛ.', 'doc': {'doctype': '1', 'docno': '4100143407', 'docdate': '30.08.2000', 'docplace': 'ТАИЦКИМ ОТДЕЛЕНИЕМ МИЛИЦИИ ГАТЧИНСКОГО УВД ЛЕНИНГРАДСКОЙ ОБЛ., 473-019'}}], 'lastname': 'СЕЛИВАНОВА', 'firstname': 'ТАТЬЯНА', 'middlename': 'НИКОЛАЕВНА', 'birthday': '11.10.1975', 'birthplace': 'П ПУДОСТЬ ГАТЧИН. Р-Н ЛО', 'doc': {'doctype': '1', 'docno': '4100143407', 'docdate': '30.08.2000', 'docplace': 'ТАИЦКИМ ОМ ГАТЧИН. УВД ЛО'}}}, 'base_part': {'credit': [{'cred_id': '543662632', 'cred_first_load': '29.10.2007', 'cred_owner': '0', 'cred_partner_type': '1', 'cred_person_num': '1', 'cred_ratio': '0', 'cred_sum': '70000.00', 'cred_sum_first': '70000.00', 'cred_currency': 'RUR', 'cred_date': '29.10.2007', 'cred_enddate': '29.10.2008', 'cred_sum_payout': '30487.00', 'cred_date_payout': '18.06.2008', 'cred_sum_debt': '0', 'cred_sum_limit': '0', 'delay5': '4', 'delay30': '2', 'delay60': '1', 'delay90': '0', 'delay_more': '0', 'cred_sum_overdue': '0.00', 'cred_day_overdue': '0', 'cred_max_overdue': '6076.00', 'cred_prolong': '0', 'cred_collateral': '0', 'cred_update': '02.08.2008', 'cred_type': '05', 'cred_active': '0', 'cred_active_date': '18.06.2008', 'cred_sum_type': '0'}, {'cred_id': '543662642', 'cred_first_load': '15.11.2007', 'cred_owner': '0', 'cred_partner_type': '1', 'cred_person_num': '1', 'cred_ratio': '0', 'cred_sum': '0.00', 'cred_sum_first': '35000.00', 'cred_currency': 'RUR', 'cred_date': '29.10.2007', 'cred_sum_payout': '1679.00', 'cred_date_payout': '20.06.2008', 'cred_sum_debt': '0', 'cred_sum_limit': '0', 'delay5': '3', 'delay30': '0', 'delay60': '0', 'delay90': '0', 'delay_more': '0', 'cred_sum_overdue': '0.00', 'cred_day_overdue': '0', 'cred_max_overdue': '2272.00', 'cred_prolong': '0', 'cred_collateral': '0', 'cred_update': '04.08.2008', 'cred_type': '04', 'cred_active': '0', 'cred_active_date': '20.06.2008', 'cred_sum_type': '0'}, {'cred_id': '1041310945', 'cred_first_load': '31.08.2012', 'cred_owner': '0', 'cred_partner_type': '1', 'cred_person_num': '1', 'cred_ratio': '0', 'cred_sum': '883183.00', 'cred_sum_first': '883183.00', 'cred_currency': 'RUR', 'cred_date': '21.08.2012', 'cred_enddate': '19.08.2017', 'cred_sum_payout': '0', 'cred_date_payout': '03.10.2013', 'cred_date_percent': '19.08.2017', 'cred_sum_debt': '0', 'cred_sum_limit': '0', 'delay5': '0', 'delay30': '0', 'delay60': '0', 'delay90': '0', 'delay_more': '0', 'cred_sum_overdue': '0.00', 'cred_day_overdue': '0', 'cred_max_overdue': '0.00', 'cred_prolong': '0', 'cred_collateral': '0', 'cred_update': '03.10.2013', 'cred_type': '01', 'cred_active': '0', 'cred_active_date': '03.10.2013', 'cred_sum_type': '1'}, {'cred_id': '1041310955', 'cred_first_load': '31.08.2012', 'cred_owner': '0', 'cred_partner_type': '1', 'cred_person_num': '1', 'cred_ratio': '0', 'cred_sum': '96000.00', 'cred_sum_first': '74000.00', 'cred_currency': 'RUR', 'cred_date': '22.08.2012', 'cred_enddate': '31.10.2016', 'cred_sum_payout': '90958.00', 'cred_date_payout': '16.11.2015', 'op_cred_sum_paid': '2467056.00', 'ta_cred_sum_paid': '2475968.00', 'cred_sum_debt': '0', 'cred_sum_limit': '0', 'cred_facility': '9', 'delay5': '0', 'delay30': '0', 'delay60': '0', 'delay90': '0', 'delay_more': '0', 'cred_sum_overdue': '0.00', 'cred_day_overdue': '0', 'cred_max_overdue': '0.00', 'cred_prolong': '1', 'cred_collateral': '0', 'cred_update': '20.01.2016', 'cred_type': '04', 'cred_active': '0', 'cred_active_date': '20.01.2016', 'cred_sum_type': '0'}, {'cred_id': '1077088045', 'cred_first_load': '21.10.2013', 'cred_owner': '0', 'cred_partner_type': '1', 'cred_person_num': '1', 'cred_ratio': '0', 'cred_sum': '150000.00', 'cred_sum_first': '150000.00', 'cred_currency': 'RUR', 'cred_date': '21.10.2013', 'cred_enddate': '15.07.2015', 'cred_sum_payout': '7106.00', 'cred_date_payout': '01.07.2015', 'op_cred_sum_paid': '150000.00', 'ta_cred_sum_paid': '170611.00', 'cred_sum_debt': '0', 'cred_sum_limit': '0', 'cred_facility': '9', 'delay5': '0', 'delay30': '0', 'delay60': '0', 'delay90': '0', 'delay_more': '0', 'cred_sum_overdue': '0.00', 'cred_day_overdue': '0', 'cred_max_overdue': '0.00', 'cred_prolong': '0', 'cred_collateral': '0', 'cred_update': '01.07.2015', 'cred_type': '05', 'cred_active': '0', 'cred_active_date': '01.07.2015', 'cred_sum_type': '0'}, {'cred_id': '1598658507', 'cred_first_load': '08.07.2015', 'cred_owner': '0', 'cred_partner_type': '1', 'cred_person_num': '1', 'cred_ratio': '0', 'cred_sum': '400000.00', 'cred_sum_first': '400000.00', 'cred_currency': 'RUR', 'cred_date': '08.07.2015', 'cred_enddate': '04.08.2020', 'cred_sum_payout': '4230.00', 'cred_date_payout': '04.08.2016', 'op_cred_sum_paid': '39465.00', 'ta_cred_sum_paid': '143079.00', 'cred_sum_debt': '360535.00', 'cred_sum_limit': '0.00', 'cred_facility': '9', 'delay5': '0', 'delay30': '0', 'delay60': '0', 'delay90': '0', 'delay_more': '0', 'cred_sum_overdue': '0.00', 'cred_day_overdue': '0', 'cred_max_overdue': '0.00', 'cred_prolong': '0', 'cred_collateral': '0', 'cred_update': '04.08.2016', 'cred_type': '05', 'cred_active': '1', 'cred_active_date': '08.07.2015', 'cred_sum_type': '0', 'cred_full_cost': '24.866'}, {'cred_id': '2643735377', 'cred_first_load': '29.12.2007', 'cred_owner': '0', 'cred_partner_type': '1', 'cred_person_num': '1', 'cred_ratio': '0', 'cred_sum': '90000.00', 'cred_sum_first': '90000.00', 'cred_currency': 'RUR', 'cred_date': '20.12.2007', 'cred_enddate': '20.12.2009', 'cred_sum_payout': '4465.00', 'cred_date_payout': '21.12.2009', 'op_cred_sum_paid': '90000.00', 'ta_cred_sum_paid': '90000.00', 'cred_sum_debt': '0', 'cred_sum_limit': '0', 'delay5': '0', 'delay30': '0', 'delay60': '0', 'delay90': '0', 'delay_more': '0', 'cred_sum_overdue': '0.00', 'cred_day_overdue': '0', 'cred_max_overdue': '0.00', 'cred_prolong': '0', 'cred_collateral': '0', 'cred_update': '09.04.2010', 'cred_type': '05', 'cred_active': '0', 'cred_active_date': '31.12.2009', 'cred_sum_type': '1'}, {'cred_id': '2649035627', 'cred_first_load': '20.04.2010', 'cred_owner': '0', 'cred_partner_type': '1', 'cred_person_num': '1', 'cred_ratio': '0', 'cred_sum': '80800.00', 'cred_sum_first': '80800.00', 'cred_currency': 'RUR', 'cred_date': '19.02.2008', 'cred_enddate': '28.02.2011', 'cred_sum_payout': '433.00', 'cred_date_payout': '20.06.2008', 'op_cred_sum_paid': '433.00', 'ta_cred_sum_paid': '433.00', 'cred_sum_debt': '0', 'cred_sum_limit': '0', 'cred_facility': '2', 'delay5': '0', 'delay30': '0', 'delay60': '0', 'delay90': '0', 'delay_more': '0', 'cred_sum_overdue': '0.00', 'cred_day_overdue': '0', 'cred_max_overdue': '0.00', 'cred_prolong': '0', 'cred_collateral': '0', 'cred_update': '20.04.2010', 'cred_type': '04', 'cred_active': '0', 'cred_active_date': '02.07.2008', 'cred_sum_type': '1'}], 'addr_reg': 'RU, 188340, 00, БОЛЬШИЕ ТАЙЦЫ, УЛ.САНАТОРСКАЯ, Д.14, КВ.(ОФИС).45', 'addr_fact': 'RU, 000000, 41, ГАТЧИНСКИЙ, ТАЙЦЫ, УЛ.СНТ ДАЧА, Д.3233', 'history_addr': {'addr_reg': [{'_VALUE': 'RU, 188340, 41, ТАЙЦЫ, УЛ.САНАТОРСКАЯ, Д.14, КВ.(ОФИС).45', 'date': '03.10.2018'}, {'_VALUE': 'RU, 188340, 41, Р-Н ГАТЧИНСКИЙ, ПГТ ТАЙЦЫ, УЛ.САНАТОРСКАЯ, Д.14, КВ.(ОФИС).45', 'date': '13.08.2018'}, {'_VALUE': 'RU, 188340, 41, ЛЕНИНГРАДСКАЯ, УЛ.САНАТОРСКАЯ, Д.14, КВ.(ОФИС).45', 'date': '09.08.2018'}, {'_VALUE': 'RU, 188340, 41, ГАТЧИНСКИЙ, ТАЙЦЫ, УЛ.САНАТОРСКАЯ, Д.14, КВ.(ОФИС).45', 'date': '12.06.2018'}, {'_VALUE': 'RU, 188340, 41, ТАЙЦЫ ПГТ, УЛ.САНАТОРСКАЯ УЛ, Д.14, КВ.(ОФИС).45', 'date': '25.02.2018'}, {'_VALUE': 'RU, 188340, 41, ГАТЧИНСКИЙ, ТАЙЦЫ, УЛ.УЛ САНАТОРСКАЯ, Д.14, КВ.(ОФИС).45', 'date': '07.09.2017'}, {'_VALUE': 'RU, 188340, 00, РАЙОН ГАТЧИНСКИЙ ТАЙЦЫ ПГТ, УЛ.ИСТИНКА, Д.14, КВ.(ОФИС).45', 'date': '30.08.2017'}, {'_VALUE': 'RU, 188340, 00, ТАЙЦЫ, УЛ.УЛ САНАТОРСКАЯ', 'date': '24.08.2017'}, {'_VALUE': 'RU, 188340, 00, ПГТ ТАЙЦЫ, УЛ.УЛ САНАТОРСКАЯ, Д.14, КВ.(ОФИС).45', 'date': '26.11.2016'}, {'_VALUE': 'RU, 188000, 41, ГАТЧИНСКИЙ, ТАЙЦЫ, УЛ.САНАТОРСКАЯ, Д.14, КВ.(ОФИС).45', 'date': '24.07.2014'}, {'_VALUE': '190000, ГАТЧИНА, УЛ.САНАТОРСКАЯ, Д.14, СТР.ЯД, КВ.(ОФИС).45', 'date': '01.08.2010'}], 'addr_fact': [{'_VALUE': 'RU, 188340, 00, БОЛЬШИЕ ТАЙЦЫ, УЛ.САНАТОРСКАЯ, Д.14, КВ.(ОФИС).45', 'date': '23.02.2019'}, {'_VALUE': 'RU, 188340, 41, ТАЙЦЫ, УЛ.САНАТОРСКАЯ, Д.14, КВ.(ОФИС).45', 'date': '03.10.2018'}, {'_VALUE': 'RU, 188340, 41, Р-Н ГАТЧИНСКИЙ, МАССИВ ТАЙЦЫ, УЛ.МАССИВ ТАЙЦЫ, Д.32', 'date': '13.08.2018'}, {'_VALUE': 'RU, 188340, 41, ЛЕНИНГРАДСКАЯ ОБЛ, ГАТЧИНСКИЙ Р-Н, МАССИВ ТАЙЦЫ, СНТ ДАЧА, УЛ.4 ЛИНИЯ, Д.32', 'date': '09.08.2018'}, {'_VALUE': 'RU, 188340, 41, ГАТЧИНСКИЙ, ТАЙЦЫ, УЛ.САНАТОРСКАЯ, Д.14, КВ.(ОФИС).45', 'date': '12.06.2018'}, {'_VALUE': 'RU, 000000, 41, ТАЙЦЫ МАССИВ, УЛ.СНТ ДАЧА УЛ, Д.32-33', 'date': '25.02.2018'}, {'_VALUE': 'RU, 000000, 41, ГАТЧИНСКИЙ, ТАЙЦЫ, УЛ.УЛ САНАТОРСКАЯ, Д.14, КВ.(ОФИС).45', 'date': '07.09.2017'}, {'_VALUE': 'RU, 188340, 00, РАЙОНГАТЧИНСКИЙМАССИВТАЙЦЫСНТД, УЛ.ИСТИНКА, Д.32', 'date': '30.08.2017'}, {'_VALUE': 'RU, 188340, 00, ТАЙЦЫ, УЛ.УЛ САНАТОРСКАЯ', 'date': '24.08.2017'}, {'_VALUE': 'RU, 188340, 00, МАССИВ ТАЙЦЫ/СНТ ДАЧА, УЛ.МАССИВ ТАЙЦЫ/СНТ ДАЧА, 33, Д.33', 'date': '08.12.2016'}, {'_VALUE': 'RU, 188340, 00, ПГТ ТАЙЦЫ, УЛ.УЛ САНАТОРСКАЯ, Д.14, КВ.(ОФИС).45', 'date': '04.12.2016'}, {'_VALUE': 'RU, 188340, 00, МАССИВ ТАЙЦЫ/СНТ ДАЧА, УЛ.МАССИВ ТАЙЦЫ/СНТ ДАЧА, 33,, Д.33', 'date': '26.11.2016'}, {'_VALUE': '99, 188000, 00, ГАТЧИНСКИЙ, ТАЙЦЫ, УЛ.СНТ &quot;ДАЧА&quot;, Д.33', 'date': '22.09.2016'}, {'_VALUE': 'RU, 188000, 41, ГАТЧИНСКИЙ, ТАЙЦЫ, УЛ.САНАТОРСКАЯ, Д.14, КВ.(ОФИС).45', 'date': '24.07.2014'}, {'_VALUE': 'RU, 188340, 41, ЛЕНИНГРАДСКАЯ ОБЛ, ГАТЧИНСКИЙ Р-Н, МАССИВ ТАЙЦЫ, С, УЛ.4 ЛИНИЯ, Д.32', 'date': '14.08.2018'}, {'_VALUE': '190000, ГАТЧИНА, УЛ.САНАТОРСКАЯ, Д.14, СТР.ЯД, КВ.(ОФИС).45', 'date': '01.08.2010'}]}}, 'add_part': {'interest': {'hour': '0', 'day': '0', 'week': '1', 'month': '0', 'quarter': '1', 'year': '0'}, 'own_interest': {'hour': '0', 'day': '0', 'week': '1', 'month': '0', 'quarter': '0', 'year': '0'}, 'info_requests': {'request': [{'timeslot': 'week', 'cred_type': '05', 'cred_currency': 'RUR', 'cred_sum': '20591.10', 'cred_duration': '12.00', 'cred_partner_type': '1', 'request_owner': '1'}, {'timeslot': 'quarter', 'cred_partner_type': '1', 'request_owner': '0'}]}, 'attrs': {'package': {'id': '24', 'name': 'Платежная дисциплина за все время жизни кредита', 'section': {'id': '23', 'name': 'Кредитная часть (расширенная)', 'period': {'attr': [{'c_i': '543662632', 'n': '831', 'v': 'CCCCCCCCCCCCCCCCCCCCCCCCCCCCCCCCCCCCCCCCCCCCCCCCCCCCCCCCCCCCCCCCCCCCCCCCCCCCCCCCCCCCCCCCCCCCCCCCCC321220100'}, {'c_i': '543662642', 'n': '831', 'v': 'CCCCCCCCCCCCCCCCCCCCCCCCCCCCCCCCCCCCCCCCCCCCCCCCCCCCCCCCCCCCCCCCCCCCCCCCCCCCCCCCCCCCCCCCCCCCCCCCCC10101000-'}, {'c_i': '1041310945', 'n': '831', 'v': 'CCCCCCCCCCCCCCCCCCCCCCCCCCCCCCCCCCC00000000000000'}, {'c_i': '1041310955', 'n': '831', 'v': 'CCCCCCCC00000000000000000000000000000000000000000'}, {'c_i': '1077088045', 'n': '831', 'v': 'CCCCCCCCCCCCCC000000000000000000000'}, {'c_i': '1598658507', 'n': '831', 'v': '00000000000000'}, {'c_i': '2643735377', 'n': '831', 'v': 'CCCCCCCCCCCCCCCCCCCCCCCCCCCCCCCCCCCCCCCCCCCCCCCCCCCCCCCCCCCCCCCCCCCCCCCCCCCCCCCCC000000000000000000000000'}, {'c_i': '2649035627', 'n': '831', 'v': 'CCCCCCCCCCCCCCCCCCCCCCCCCCCCCCCCCCCCCCCCCCCCCCCCCCCCCCCCCCCCCCCCCCCCCCCCCCCCC--------------------------'}]}}}}}}"
     ]
    }
   ],
   "source": [
    "second_xml_dict"
   ]
  },
  {
   "cell_type": "code",
   "execution_count": 274,
   "metadata": {
    "collapsed": true,
    "scrolled": true
   },
   "outputs": [],
   "source": [
    "flat_second_xml_dict = flatten(second_xml_dict)"
   ]
  },
  {
   "cell_type": "code",
   "execution_count": 290,
   "metadata": {
    "scrolled": true
   },
   "outputs": [
    {
     "name": "stdout",
     "output_type": "stream",
     "text": [
      "{'num': '120297472', 'dateofreport': '01.09.2016', 'report_type': '1234571467', 'responsecode': '1', 'responsestring': 'Клиент найден и у него есть кредитная история', 'title_part_private_history_title': [{'title_part_private_history_title_date': '12.06.2018', 'title_part_private_history_title_lastname': 'СЕЛИВАНОВА', 'title_part_private_history_title_firstname': 'ТАТЬЯНА', 'title_part_private_history_title_middlename': 'НИКОЛАЕВНА', 'title_part_private_history_title_birthday': '11.10.1975', 'title_part_private_history_title_birthplace': 'ПОС. ПУДОСТЬ ГАТЧИНСКИЙ Р-Н ЛЕНИНГРАДСКАЯ ОБЛ.', 'title_part_private_history_title_doc_doctype': '1', 'title_part_private_history_title_doc_docno': '4100143407', 'title_part_private_history_title_doc_docdate': '30.08.2000', 'title_part_private_history_title_doc_docplace': 'ТАИЦКИМ ОМ ГАТЧИНСКОГО УВД ЛО ', 'title_part_private_history_title_pfno': '05009766042'}, {'title_part_private_history_title_date': '09.08.2018', 'title_part_private_history_title_lastname': 'СЕЛИВАНОВА', 'title_part_private_history_title_firstname': 'ТАТЬЯНА', 'title_part_private_history_title_middlename': 'НИКОЛАЕВНА', 'title_part_private_history_title_birthday': '11.10.1975', 'title_part_private_history_title_birthplace': 'ПОС. ПУДОСТЬ ГАТЧИНСКИЙ Р-Н ЛЕНИНГРАДСКАЯ ОБЛ.', 'title_part_private_history_title_doc_doctype': '1', 'title_part_private_history_title_doc_docno': '4100143407', 'title_part_private_history_title_doc_docdate': '30.08.2000', 'title_part_private_history_title_doc_docplace': '473-019', 'title_part_private_history_title_pfno': '05009766042'}, {'title_part_private_history_title_date': '13.08.2018', 'title_part_private_history_title_lastname': 'СЕЛИВАНОВА', 'title_part_private_history_title_firstname': 'ТАТЬЯНА', 'title_part_private_history_title_middlename': 'НИКОЛАЕВНА', 'title_part_private_history_title_birthday': '11.10.1975', 'title_part_private_history_title_birthplace': 'ПОС.ПУДОСТЬ ГАТЧИНСКИЙ Р-Н ЛЕНИНГРАДСКАЯ ОБЛ.', 'title_part_private_history_title_doc_doctype': '1', 'title_part_private_history_title_doc_docno': '4100143407', 'title_part_private_history_title_doc_docdate': '30.08.2000', 'title_part_private_history_title_doc_docplace': 'ТАИЦКИМ ОТДЕЛЕНИЕМ МИЛИЦИИ ГАТЧИНСКОГО УВД ЛЕНИНГРАДСКОЙ ОБЛ. '}, {'title_part_private_history_title_date': '14.08.2018', 'title_part_private_history_title_lastname': 'СЕЛИВАНОВА', 'title_part_private_history_title_firstname': 'ТАТЬЯНА', 'title_part_private_history_title_middlename': 'НИКОЛАЕВНА', 'title_part_private_history_title_birthday': '11.10.1975', 'title_part_private_history_title_birthplace': 'ПОС. ПУДОСТЬ ГАТЧИНСКИЙ Р-Н ЛЕНИНГРАДСКАЯ ОБЛ.', 'title_part_private_history_title_doc_doctype': '1', 'title_part_private_history_title_doc_docno': '4100143407', 'title_part_private_history_title_doc_docdate': '30.08.2000', 'title_part_private_history_title_doc_docplace': 'ТАИЦКОЕ ОМ ГАТЧИНСКОГО Р-НА ЛЕНИНГРАДСКОЙ ОБЛ.'}, {'title_part_private_history_title_date': '03.10.2018', 'title_part_private_history_title_lastname': 'СЕЛИВАНОВА', 'title_part_private_history_title_firstname': 'ТАТЬЯНА', 'title_part_private_history_title_middlename': 'НИКОЛАЕВНА', 'title_part_private_history_title_birthday': '11.10.1975', 'title_part_private_history_title_birthplace': 'ПОС.ПУДОСТЬ ЛЕНИНГРАДСКОЙ ОБЛ.', 'title_part_private_history_title_doc_doctype': '1', 'title_part_private_history_title_doc_docno': '4100143407', 'title_part_private_history_title_doc_docdate': '30.08.2000', 'title_part_private_history_title_doc_docplace': 'ТАИЦКИМ ОМ ГАТЧИНСКОГО Р-НА ЛО '}, {'title_part_private_history_title_date': '18.12.2018', 'title_part_private_history_title_lastname': 'СЕЛИВАНОВА', 'title_part_private_history_title_firstname': 'ТАТЬЯНА', 'title_part_private_history_title_middlename': 'НИКОЛАЕВНА', 'title_part_private_history_title_birthday': '11.10.1975', 'title_part_private_history_title_birthplace': 'ПОС. ПУДОСТЬ ГАТЧИНСКИЙ Р-Н ЛЕНИНГРАДСКАЯ ОБЛ.', 'title_part_private_history_title_doc_doctype': '1', 'title_part_private_history_title_doc_docno': '4100143407', 'title_part_private_history_title_doc_docdate': '30.08.2000', 'title_part_private_history_title_doc_docplace': 'ТАИЦКИМ ОТДЕЛЕНИЕМ МИЛИЦИИ ГАТЧИНСКОГО УВД ЛЕНИНГРАДСКОЙ ОБЛ. 473-019 '}, {'title_part_private_history_title_date': '04.03.2019', 'title_part_private_history_title_lastname': 'СЕЛИВАНОВА', 'title_part_private_history_title_firstname': 'ТАТЬЯНА', 'title_part_private_history_title_middlename': 'НИКОЛАЕВНА', 'title_part_private_history_title_birthday': '11.10.1975', 'title_part_private_history_title_birthplace': 'ПОС. ПУДОСТЬ ГАТЧИНСКИЙ Р-Н ЛЕНИНГРАДСКАЯ ОБЛ.', 'title_part_private_history_title_doc_doctype': '1', 'title_part_private_history_title_doc_docno': '4100143407', 'title_part_private_history_title_doc_docdate': '30.08.2000', 'title_part_private_history_title_doc_docplace': 'ТАИЦКИМ ОМ ГАТЧИНСКОГО УВД ЛО', 'title_part_private_history_title_pfno': '05009766042'}, {'title_part_private_history_title_date': '01.08.2010', 'title_part_private_history_title_lastname': 'СЕЛИВАНОВА', 'title_part_private_history_title_firstname': 'ТАТЬЯНА', 'title_part_private_history_title_middlename': 'НИКОЛАЕВНА', 'title_part_private_history_title_birthday': '11.10.1975', 'title_part_private_history_title_birthplace': 'НЕТ ДАННЫХ', 'title_part_private_history_title_doc_doctype': '1', 'title_part_private_history_title_doc_docno': '4100143407', 'title_part_private_history_title_doc_docdate': '30.08.2000', 'title_part_private_history_title_doc_docplace': 'ТАИЦКИМ ОМ ГАТЧИНСКОГО УВД ЛЕН.ОБЛ. '}, {'title_part_private_history_title_date': '26.11.2016', 'title_part_private_history_title_lastname': 'СЕЛИВАНОВА', 'title_part_private_history_title_firstname': 'ТАТЬЯНА', 'title_part_private_history_title_middlename': 'НИКОЛАЕВНА', 'title_part_private_history_title_birthday': '11.10.1975', 'title_part_private_history_title_birthplace': 'П.ПУДОСТЬ', 'title_part_private_history_title_doc_doctype': '1', 'title_part_private_history_title_doc_docno': '4100143407', 'title_part_private_history_title_doc_docdate': '30.08.2000', 'title_part_private_history_title_doc_docplace': 'ТАИЦКИМ ОТДЕЛЕНИЕМ МИЛИЦИИ ГАТЧИНСКОГО РАЙОНА ЛЕНИНГРАДСКОЙ ОБЛАСТИ'}, {'title_part_private_history_title_date': '24.08.2017', 'title_part_private_history_title_lastname': 'СЕЛИВАНОВА', 'title_part_private_history_title_firstname': 'ТАТЬЯНА', 'title_part_private_history_title_middlename': 'НИКОЛАЕВНА', 'title_part_private_history_title_birthday': '11.10.1975', 'title_part_private_history_title_birthplace': 'ПОС.ПУДОСТЬ ГАТЧИНСКИЙ Р-Н ЛЕНИНГРАДСКАЯ ОБЛ.', 'title_part_private_history_title_doc_doctype': '1', 'title_part_private_history_title_doc_docno': '4100143407', 'title_part_private_history_title_doc_docdate': '30.08.2000', 'title_part_private_history_title_doc_docplace': 'ТАИЦКИМ О/М ГАТЧИНСКОГО УВД ЛЕНИНГРАДСКОЙ ОБЛ.,473-019'}, {'title_part_private_history_title_date': '30.08.2017', 'title_part_private_history_title_lastname': 'СЕЛИВАНОВА', 'title_part_private_history_title_firstname': 'ТАТЬЯНА', 'title_part_private_history_title_middlename': 'НИКОЛАЕВНА', 'title_part_private_history_title_birthday': '11.10.1975', 'title_part_private_history_title_birthplace': 'ПОС.ПУДОСТЬ ЛЕНИНГРАДСКАЯ ОБЛ.', 'title_part_private_history_title_doc_doctype': '1', 'title_part_private_history_title_doc_docno': '4100143407', 'title_part_private_history_title_doc_docdate': '30.08.2000', 'title_part_private_history_title_doc_docplace': 'ТАИЦКИМ ОМ ГАТЧИНСКОГО Р-НА ЛО'}, {'title_part_private_history_title_date': '06.09.2017', 'title_part_private_history_title_lastname': 'СЕЛИВАНОВА', 'title_part_private_history_title_firstname': 'ТАТЬЯНА', 'title_part_private_history_title_middlename': 'НИКОЛАЕВНА', 'title_part_private_history_title_birthday': '11.10.1975', 'title_part_private_history_title_birthplace': 'ПОС. ПУДОСТЬ ГАТЧИНСКИЙ Р-Н ЛЕНИНГРАДСКАЯ ОБЛ.', 'title_part_private_history_title_doc_doctype': '1', 'title_part_private_history_title_doc_docno': '4100143407', 'title_part_private_history_title_doc_docdate': '30.08.2000', 'title_part_private_history_title_doc_docplace': 'ТАИЦКИМ ОТДЕЛЕНИЕМ МИЛИЦИИ ГАТЧИНСКОГО УВД ЛЕНИНГРАДСКОЙ ОБЛ. 473-019'}, {'title_part_private_history_title_date': '07.09.2017', 'title_part_private_history_title_lastname': 'СЕЛИВАНОВА', 'title_part_private_history_title_firstname': 'ТАТЬЯНА', 'title_part_private_history_title_middlename': 'НИКОЛАЕВНА', 'title_part_private_history_title_birthday': '11.10.1975', 'title_part_private_history_title_birthplace': 'ПОС.ПУДОСТЬ ГАТЧИНСКИЙ Р-Н ЛЕНИНГРАДСКАЯ ОБЛ.', 'title_part_private_history_title_doc_doctype': '1', 'title_part_private_history_title_doc_docno': '4100143407', 'title_part_private_history_title_doc_docdate': '30.08.2000', 'title_part_private_history_title_doc_docplace': 'ТАИЦКИМ ОТДЕЛЕНИЕМ МИЛИЦИИ ГАТЧИНСКОГО УВД ЛЕНИНГРАДСКОЙ ОБЛ.'}, {'title_part_private_history_title_date': '21.11.2017', 'title_part_private_history_title_lastname': 'СЕЛИВАНОВА', 'title_part_private_history_title_firstname': 'ТАТЬЯНА', 'title_part_private_history_title_middlename': 'НИКОЛАЕВНА', 'title_part_private_history_title_birthday': '11.10.1975', 'title_part_private_history_title_birthplace': 'ПОС.ПУДОСТЬ ГАТЧИНСКИЙ Р-Н ЛЕНИНГРАДСКАЯ ОБЛ.', 'title_part_private_history_title_doc_doctype': '1', 'title_part_private_history_title_doc_docno': '4100143407', 'title_part_private_history_title_doc_docdate': '30.08.2000', 'title_part_private_history_title_doc_docplace': 'ТАИЦКИМ О/М ГАТЧИНСКОГО УВД ЛЕНИНГРАДСКОЙ ОБЛ.,473-019 '}, {'title_part_private_history_title_date': '24.07.2014', 'title_part_private_history_title_lastname': 'СЕЛИВАНОВА', 'title_part_private_history_title_firstname': 'ТАТЬЯНА', 'title_part_private_history_title_middlename': 'НИКОЛАЕВНА', 'title_part_private_history_title_birthday': '11.10.1975', 'title_part_private_history_title_birthplace': 'ПОС. ПУДОСТЬ ГАТЧИНСКИЙ Р-Н ЛЕНИНГРАДСКАЯ ОБЛ.', 'title_part_private_history_title_doc_doctype': '1', 'title_part_private_history_title_doc_docno': '4100143407', 'title_part_private_history_title_doc_docdate': '30.08.2000', 'title_part_private_history_title_doc_docplace': 'ТАИЦКИМ ОТДЕЛЕНИЕМ МИЛИЦИИ ГАТЧИНСКОГО УВД ЛЕНИНГРАДСКОЙ ОБЛ., 473-019'}], 'title_part_private_lastname': 'СЕЛИВАНОВА', 'title_part_private_firstname': 'ТАТЬЯНА', 'title_part_private_middlename': 'НИКОЛАЕВНА', 'title_part_private_birthday': '11.10.1975', 'title_part_private_birthplace': 'П ПУДОСТЬ ГАТЧИН. Р-Н ЛО', 'title_part_private_doc_doctype': '1', 'title_part_private_doc_docno': '4100143407', 'title_part_private_doc_docdate': '30.08.2000', 'title_part_private_doc_docplace': 'ТАИЦКИМ ОМ ГАТЧИН. УВД ЛО', 'base_part_credit': [{'base_part_credit_cred_id': '543662632', 'base_part_credit_cred_first_load': '29.10.2007', 'base_part_credit_cred_owner': '0', 'base_part_credit_cred_partner_type': '1', 'base_part_credit_cred_person_num': '1', 'base_part_credit_cred_ratio': '0', 'base_part_credit_cred_sum': '70000.00', 'base_part_credit_cred_sum_first': '70000.00', 'base_part_credit_cred_currency': 'RUR', 'base_part_credit_cred_date': '29.10.2007', 'base_part_credit_cred_enddate': '29.10.2008', 'base_part_credit_cred_sum_payout': '30487.00', 'base_part_credit_cred_date_payout': '18.06.2008', 'base_part_credit_cred_sum_debt': '0', 'base_part_credit_cred_sum_limit': '0', 'base_part_credit_delay5': '4', 'base_part_credit_delay30': '2', 'base_part_credit_delay60': '1', 'base_part_credit_delay90': '0', 'base_part_credit_delay_more': '0', 'base_part_credit_cred_sum_overdue': '0.00', 'base_part_credit_cred_day_overdue': '0', 'base_part_credit_cred_max_overdue': '6076.00', 'base_part_credit_cred_prolong': '0', 'base_part_credit_cred_collateral': '0', 'base_part_credit_cred_update': '02.08.2008', 'base_part_credit_cred_type': '05', 'base_part_credit_cred_active': '0', 'base_part_credit_cred_active_date': '18.06.2008', 'base_part_credit_cred_sum_type': '0'}, {'base_part_credit_cred_id': '543662642', 'base_part_credit_cred_first_load': '15.11.2007', 'base_part_credit_cred_owner': '0', 'base_part_credit_cred_partner_type': '1', 'base_part_credit_cred_person_num': '1', 'base_part_credit_cred_ratio': '0', 'base_part_credit_cred_sum': '0.00', 'base_part_credit_cred_sum_first': '35000.00', 'base_part_credit_cred_currency': 'RUR', 'base_part_credit_cred_date': '29.10.2007', 'base_part_credit_cred_sum_payout': '1679.00', 'base_part_credit_cred_date_payout': '20.06.2008', 'base_part_credit_cred_sum_debt': '0', 'base_part_credit_cred_sum_limit': '0', 'base_part_credit_delay5': '3', 'base_part_credit_delay30': '0', 'base_part_credit_delay60': '0', 'base_part_credit_delay90': '0', 'base_part_credit_delay_more': '0', 'base_part_credit_cred_sum_overdue': '0.00', 'base_part_credit_cred_day_overdue': '0', 'base_part_credit_cred_max_overdue': '2272.00', 'base_part_credit_cred_prolong': '0', 'base_part_credit_cred_collateral': '0', 'base_part_credit_cred_update': '04.08.2008', 'base_part_credit_cred_type': '04', 'base_part_credit_cred_active': '0', 'base_part_credit_cred_active_date': '20.06.2008', 'base_part_credit_cred_sum_type': '0'}, {'base_part_credit_cred_id': '1041310945', 'base_part_credit_cred_first_load': '31.08.2012', 'base_part_credit_cred_owner': '0', 'base_part_credit_cred_partner_type': '1', 'base_part_credit_cred_person_num': '1', 'base_part_credit_cred_ratio': '0', 'base_part_credit_cred_sum': '883183.00', 'base_part_credit_cred_sum_first': '883183.00', 'base_part_credit_cred_currency': 'RUR', 'base_part_credit_cred_date': '21.08.2012', 'base_part_credit_cred_enddate': '19.08.2017', 'base_part_credit_cred_sum_payout': '0', 'base_part_credit_cred_date_payout': '03.10.2013', 'base_part_credit_cred_date_percent': '19.08.2017', 'base_part_credit_cred_sum_debt': '0', 'base_part_credit_cred_sum_limit': '0', 'base_part_credit_delay5': '0', 'base_part_credit_delay30': '0', 'base_part_credit_delay60': '0', 'base_part_credit_delay90': '0', 'base_part_credit_delay_more': '0', 'base_part_credit_cred_sum_overdue': '0.00', 'base_part_credit_cred_day_overdue': '0', 'base_part_credit_cred_max_overdue': '0.00', 'base_part_credit_cred_prolong': '0', 'base_part_credit_cred_collateral': '0', 'base_part_credit_cred_update': '03.10.2013', 'base_part_credit_cred_type': '01', 'base_part_credit_cred_active': '0', 'base_part_credit_cred_active_date': '03.10.2013', 'base_part_credit_cred_sum_type': '1'}, {'base_part_credit_cred_id': '1041310955', 'base_part_credit_cred_first_load': '31.08.2012', 'base_part_credit_cred_owner': '0', 'base_part_credit_cred_partner_type': '1', 'base_part_credit_cred_person_num': '1', 'base_part_credit_cred_ratio': '0', 'base_part_credit_cred_sum': '96000.00', 'base_part_credit_cred_sum_first': '74000.00', 'base_part_credit_cred_currency': 'RUR', 'base_part_credit_cred_date': '22.08.2012', 'base_part_credit_cred_enddate': '31.10.2016', 'base_part_credit_cred_sum_payout': '90958.00', 'base_part_credit_cred_date_payout': '16.11.2015', 'base_part_credit_op_cred_sum_paid': '2467056.00', 'base_part_credit_ta_cred_sum_paid': '2475968.00', 'base_part_credit_cred_sum_debt': '0', 'base_part_credit_cred_sum_limit': '0', 'base_part_credit_cred_facility': '9', 'base_part_credit_delay5': '0', 'base_part_credit_delay30': '0', 'base_part_credit_delay60': '0', 'base_part_credit_delay90': '0', 'base_part_credit_delay_more': '0', 'base_part_credit_cred_sum_overdue': '0.00', 'base_part_credit_cred_day_overdue': '0', 'base_part_credit_cred_max_overdue': '0.00', 'base_part_credit_cred_prolong': '1', 'base_part_credit_cred_collateral': '0', 'base_part_credit_cred_update': '20.01.2016', 'base_part_credit_cred_type': '04', 'base_part_credit_cred_active': '0', 'base_part_credit_cred_active_date': '20.01.2016', 'base_part_credit_cred_sum_type': '0'}, {'base_part_credit_cred_id': '1077088045', 'base_part_credit_cred_first_load': '21.10.2013', 'base_part_credit_cred_owner': '0', 'base_part_credit_cred_partner_type': '1', 'base_part_credit_cred_person_num': '1', 'base_part_credit_cred_ratio': '0', 'base_part_credit_cred_sum': '150000.00', 'base_part_credit_cred_sum_first': '150000.00', 'base_part_credit_cred_currency': 'RUR', 'base_part_credit_cred_date': '21.10.2013', 'base_part_credit_cred_enddate': '15.07.2015', 'base_part_credit_cred_sum_payout': '7106.00', 'base_part_credit_cred_date_payout': '01.07.2015', 'base_part_credit_op_cred_sum_paid': '150000.00', 'base_part_credit_ta_cred_sum_paid': '170611.00', 'base_part_credit_cred_sum_debt': '0', 'base_part_credit_cred_sum_limit': '0', 'base_part_credit_cred_facility': '9', 'base_part_credit_delay5': '0', 'base_part_credit_delay30': '0', 'base_part_credit_delay60': '0', 'base_part_credit_delay90': '0', 'base_part_credit_delay_more': '0', 'base_part_credit_cred_sum_overdue': '0.00', 'base_part_credit_cred_day_overdue': '0', 'base_part_credit_cred_max_overdue': '0.00', 'base_part_credit_cred_prolong': '0', 'base_part_credit_cred_collateral': '0', 'base_part_credit_cred_update': '01.07.2015', 'base_part_credit_cred_type': '05', 'base_part_credit_cred_active': '0', 'base_part_credit_cred_active_date': '01.07.2015', 'base_part_credit_cred_sum_type': '0'}, {'base_part_credit_cred_id': '1598658507', 'base_part_credit_cred_first_load': '08.07.2015', 'base_part_credit_cred_owner': '0', 'base_part_credit_cred_partner_type': '1', 'base_part_credit_cred_person_num': '1', 'base_part_credit_cred_ratio': '0', 'base_part_credit_cred_sum': '400000.00', 'base_part_credit_cred_sum_first': '400000.00', 'base_part_credit_cred_currency': 'RUR', 'base_part_credit_cred_date': '08.07.2015', 'base_part_credit_cred_enddate': '04.08.2020', 'base_part_credit_cred_sum_payout': '4230.00', 'base_part_credit_cred_date_payout': '04.08.2016', 'base_part_credit_op_cred_sum_paid': '39465.00', 'base_part_credit_ta_cred_sum_paid': '143079.00', 'base_part_credit_cred_sum_debt': '360535.00', 'base_part_credit_cred_sum_limit': '0.00', 'base_part_credit_cred_facility': '9', 'base_part_credit_delay5': '0', 'base_part_credit_delay30': '0', 'base_part_credit_delay60': '0', 'base_part_credit_delay90': '0', 'base_part_credit_delay_more': '0', 'base_part_credit_cred_sum_overdue': '0.00', 'base_part_credit_cred_day_overdue': '0', 'base_part_credit_cred_max_overdue': '0.00', 'base_part_credit_cred_prolong': '0', 'base_part_credit_cred_collateral': '0', 'base_part_credit_cred_update': '04.08.2016', 'base_part_credit_cred_type': '05', 'base_part_credit_cred_active': '1', 'base_part_credit_cred_active_date': '08.07.2015', 'base_part_credit_cred_sum_type': '0', 'base_part_credit_cred_full_cost': '24.866'}, {'base_part_credit_cred_id': '2643735377', 'base_part_credit_cred_first_load': '29.12.2007', 'base_part_credit_cred_owner': '0', 'base_part_credit_cred_partner_type': '1', 'base_part_credit_cred_person_num': '1', 'base_part_credit_cred_ratio': '0', 'base_part_credit_cred_sum': '90000.00', 'base_part_credit_cred_sum_first': '90000.00', 'base_part_credit_cred_currency': 'RUR', 'base_part_credit_cred_date': '20.12.2007', 'base_part_credit_cred_enddate': '20.12.2009', 'base_part_credit_cred_sum_payout': '4465.00', 'base_part_credit_cred_date_payout': '21.12.2009', 'base_part_credit_op_cred_sum_paid': '90000.00', 'base_part_credit_ta_cred_sum_paid': '90000.00', 'base_part_credit_cred_sum_debt': '0', 'base_part_credit_cred_sum_limit': '0', 'base_part_credit_delay5': '0', 'base_part_credit_delay30': '0', 'base_part_credit_delay60': '0', 'base_part_credit_delay90': '0', 'base_part_credit_delay_more': '0', 'base_part_credit_cred_sum_overdue': '0.00', 'base_part_credit_cred_day_overdue': '0', 'base_part_credit_cred_max_overdue': '0.00', 'base_part_credit_cred_prolong': '0', 'base_part_credit_cred_collateral': '0', 'base_part_credit_cred_update': '09.04.2010', 'base_part_credit_cred_type': '05', 'base_part_credit_cred_active': '0', 'base_part_credit_cred_active_date': '31.12.2009', 'base_part_credit_cred_sum_type': '1'}, {'base_part_credit_cred_id': '2649035627', 'base_part_credit_cred_first_load': '20.04.2010', 'base_part_credit_cred_owner': '0', 'base_part_credit_cred_partner_type': '1', 'base_part_credit_cred_person_num': '1', 'base_part_credit_cred_ratio': '0', 'base_part_credit_cred_sum': '80800.00', 'base_part_credit_cred_sum_first': '80800.00', 'base_part_credit_cred_currency': 'RUR', 'base_part_credit_cred_date': '19.02.2008', 'base_part_credit_cred_enddate': '28.02.2011', 'base_part_credit_cred_sum_payout': '433.00', 'base_part_credit_cred_date_payout': '20.06.2008', 'base_part_credit_op_cred_sum_paid': '433.00', 'base_part_credit_ta_cred_sum_paid': '433.00', 'base_part_credit_cred_sum_debt': '0', 'base_part_credit_cred_sum_limit': '0', 'base_part_credit_cred_facility': '2', 'base_part_credit_delay5': '0', 'base_part_credit_delay30': '0', 'base_part_credit_delay60': '0', 'base_part_credit_delay90': '0', 'base_part_credit_delay_more': '0', 'base_part_credit_cred_sum_overdue': '0.00', 'base_part_credit_cred_day_overdue': '0', 'base_part_credit_cred_max_overdue': '0.00', 'base_part_credit_cred_prolong': '0', 'base_part_credit_cred_collateral': '0', 'base_part_credit_cred_update': '20.04.2010', 'base_part_credit_cred_type': '04', 'base_part_credit_cred_active': '0', 'base_part_credit_cred_active_date': '02.07.2008', 'base_part_credit_cred_sum_type': '1'}], 'base_part_addr_reg': 'RU, 188340, 00, БОЛЬШИЕ ТАЙЦЫ, УЛ.САНАТОРСКАЯ, Д.14, КВ.(ОФИС).45', 'base_part_addr_fact': 'RU, 000000, 41, ГАТЧИНСКИЙ, ТАЙЦЫ, УЛ.СНТ ДАЧА, Д.3233', 'base_part_history_addr_addr_reg': [{'base_part_history_addr_addr_reg__VALUE': 'RU, 188340, 41, ТАЙЦЫ, УЛ.САНАТОРСКАЯ, Д.14, КВ.(ОФИС).45', 'base_part_history_addr_addr_reg_date': '03.10.2018'}, {'base_part_history_addr_addr_reg__VALUE': 'RU, 188340, 41, Р-Н ГАТЧИНСКИЙ, ПГТ ТАЙЦЫ, УЛ.САНАТОРСКАЯ, Д.14, КВ.(ОФИС).45', 'base_part_history_addr_addr_reg_date': '13.08.2018'}, {'base_part_history_addr_addr_reg__VALUE': 'RU, 188340, 41, ЛЕНИНГРАДСКАЯ, УЛ.САНАТОРСКАЯ, Д.14, КВ.(ОФИС).45', 'base_part_history_addr_addr_reg_date': '09.08.2018'}, {'base_part_history_addr_addr_reg__VALUE': 'RU, 188340, 41, ГАТЧИНСКИЙ, ТАЙЦЫ, УЛ.САНАТОРСКАЯ, Д.14, КВ.(ОФИС).45', 'base_part_history_addr_addr_reg_date': '12.06.2018'}, {'base_part_history_addr_addr_reg__VALUE': 'RU, 188340, 41, ТАЙЦЫ ПГТ, УЛ.САНАТОРСКАЯ УЛ, Д.14, КВ.(ОФИС).45', 'base_part_history_addr_addr_reg_date': '25.02.2018'}, {'base_part_history_addr_addr_reg__VALUE': 'RU, 188340, 41, ГАТЧИНСКИЙ, ТАЙЦЫ, УЛ.УЛ САНАТОРСКАЯ, Д.14, КВ.(ОФИС).45', 'base_part_history_addr_addr_reg_date': '07.09.2017'}, {'base_part_history_addr_addr_reg__VALUE': 'RU, 188340, 00, РАЙОН ГАТЧИНСКИЙ ТАЙЦЫ ПГТ, УЛ.ИСТИНКА, Д.14, КВ.(ОФИС).45', 'base_part_history_addr_addr_reg_date': '30.08.2017'}, {'base_part_history_addr_addr_reg__VALUE': 'RU, 188340, 00, ТАЙЦЫ, УЛ.УЛ САНАТОРСКАЯ', 'base_part_history_addr_addr_reg_date': '24.08.2017'}, {'base_part_history_addr_addr_reg__VALUE': 'RU, 188340, 00, ПГТ ТАЙЦЫ, УЛ.УЛ САНАТОРСКАЯ, Д.14, КВ.(ОФИС).45', 'base_part_history_addr_addr_reg_date': '26.11.2016'}, {'base_part_history_addr_addr_reg__VALUE': 'RU, 188000, 41, ГАТЧИНСКИЙ, ТАЙЦЫ, УЛ.САНАТОРСКАЯ, Д.14, КВ.(ОФИС).45', 'base_part_history_addr_addr_reg_date': '24.07.2014'}, {'base_part_history_addr_addr_reg__VALUE': '190000, ГАТЧИНА, УЛ.САНАТОРСКАЯ, Д.14, СТР.ЯД, КВ.(ОФИС).45', 'base_part_history_addr_addr_reg_date': '01.08.2010'}], 'base_part_history_addr_addr_fact': [{'base_part_history_addr_addr_fact__VALUE': 'RU, 188340, 00, БОЛЬШИЕ ТАЙЦЫ, УЛ.САНАТОРСКАЯ, Д.14, КВ.(ОФИС).45', 'base_part_history_addr_addr_fact_date': '23.02.2019'}, {'base_part_history_addr_addr_fact__VALUE': 'RU, 188340, 41, ТАЙЦЫ, УЛ.САНАТОРСКАЯ, Д.14, КВ.(ОФИС).45', 'base_part_history_addr_addr_fact_date': '03.10.2018'}, {'base_part_history_addr_addr_fact__VALUE': 'RU, 188340, 41, Р-Н ГАТЧИНСКИЙ, МАССИВ ТАЙЦЫ, УЛ.МАССИВ ТАЙЦЫ, Д.32', 'base_part_history_addr_addr_fact_date': '13.08.2018'}, {'base_part_history_addr_addr_fact__VALUE': 'RU, 188340, 41, ЛЕНИНГРАДСКАЯ ОБЛ, ГАТЧИНСКИЙ Р-Н, МАССИВ ТАЙЦЫ, СНТ ДАЧА, УЛ.4 ЛИНИЯ, Д.32', 'base_part_history_addr_addr_fact_date': '09.08.2018'}, {'base_part_history_addr_addr_fact__VALUE': 'RU, 188340, 41, ГАТЧИНСКИЙ, ТАЙЦЫ, УЛ.САНАТОРСКАЯ, Д.14, КВ.(ОФИС).45', 'base_part_history_addr_addr_fact_date': '12.06.2018'}, {'base_part_history_addr_addr_fact__VALUE': 'RU, 000000, 41, ТАЙЦЫ МАССИВ, УЛ.СНТ ДАЧА УЛ, Д.32-33', 'base_part_history_addr_addr_fact_date': '25.02.2018'}, {'base_part_history_addr_addr_fact__VALUE': 'RU, 000000, 41, ГАТЧИНСКИЙ, ТАЙЦЫ, УЛ.УЛ САНАТОРСКАЯ, Д.14, КВ.(ОФИС).45', 'base_part_history_addr_addr_fact_date': '07.09.2017'}, {'base_part_history_addr_addr_fact__VALUE': 'RU, 188340, 00, РАЙОНГАТЧИНСКИЙМАССИВТАЙЦЫСНТД, УЛ.ИСТИНКА, Д.32', 'base_part_history_addr_addr_fact_date': '30.08.2017'}, {'base_part_history_addr_addr_fact__VALUE': 'RU, 188340, 00, ТАЙЦЫ, УЛ.УЛ САНАТОРСКАЯ', 'base_part_history_addr_addr_fact_date': '24.08.2017'}, {'base_part_history_addr_addr_fact__VALUE': 'RU, 188340, 00, МАССИВ ТАЙЦЫ/СНТ ДАЧА, УЛ.МАССИВ ТАЙЦЫ/СНТ ДАЧА, 33, Д.33', 'base_part_history_addr_addr_fact_date': '08.12.2016'}, {'base_part_history_addr_addr_fact__VALUE': 'RU, 188340, 00, ПГТ ТАЙЦЫ, УЛ.УЛ САНАТОРСКАЯ, Д.14, КВ.(ОФИС).45', 'base_part_history_addr_addr_fact_date': '04.12.2016'}, {'base_part_history_addr_addr_fact__VALUE': 'RU, 188340, 00, МАССИВ ТАЙЦЫ/СНТ ДАЧА, УЛ.МАССИВ ТАЙЦЫ/СНТ ДАЧА, 33,, Д.33', 'base_part_history_addr_addr_fact_date': '26.11.2016'}, {'base_part_history_addr_addr_fact__VALUE': '99, 188000, 00, ГАТЧИНСКИЙ, ТАЙЦЫ, УЛ.СНТ &quot;ДАЧА&quot;, Д.33', 'base_part_history_addr_addr_fact_date': '22.09.2016'}, {'base_part_history_addr_addr_fact__VALUE': 'RU, 188000, 41, ГАТЧИНСКИЙ, ТАЙЦЫ, УЛ.САНАТОРСКАЯ, Д.14, КВ.(ОФИС).45', 'base_part_history_addr_addr_fact_date': '24.07.2014'}, {'base_part_history_addr_addr_fact__VALUE': 'RU, 188340, 41, ЛЕНИНГРАДСКАЯ ОБЛ, ГАТЧИНСКИЙ Р-Н, МАССИВ ТАЙЦЫ, С, УЛ.4 ЛИНИЯ, Д.32', 'base_part_history_addr_addr_fact_date': '14.08.2018'}, {'base_part_history_addr_addr_fact__VALUE': '190000, ГАТЧИНА, УЛ.САНАТОРСКАЯ, Д.14, СТР.ЯД, КВ.(ОФИС).45', 'base_part_history_addr_addr_fact_date': '01.08.2010'}], 'add_part_interest_hour': '0', 'add_part_interest_day': '0', 'add_part_interest_week': '1', 'add_part_interest_month': '0', 'add_part_interest_quarter': '1', 'add_part_interest_year': '0', 'add_part_own_interest_hour': '0', 'add_part_own_interest_day': '0', 'add_part_own_interest_week': '1', 'add_part_own_interest_month': '0', 'add_part_own_interest_quarter': '0', 'add_part_own_interest_year': '0', 'add_part_info_requests_request': [{'add_part_info_requests_request_timeslot': 'week', 'add_part_info_requests_request_cred_type': '05', 'add_part_info_requests_request_cred_currency': 'RUR', 'add_part_info_requests_request_cred_sum': '20591.10', 'add_part_info_requests_request_cred_duration': '12.00', 'add_part_info_requests_request_cred_partner_type': '1', 'add_part_info_requests_request_request_owner': '1'}, {'add_part_info_requests_request_timeslot': 'quarter', 'add_part_info_requests_request_cred_partner_type': '1', 'add_part_info_requests_request_request_owner': '0'}], 'add_part_attrs_package_id': '24', 'add_part_attrs_package_name': 'Платежная дисциплина за все время жизни кредита', 'add_part_attrs_package_section_id': '23', 'add_part_attrs_package_section_name': 'Кредитная часть (расширенная)', 'add_part_attrs_package_section_period_attr': [{'add_part_attrs_package_section_period_attr_c_i': '543662632', 'add_part_attrs_package_section_period_attr_n': '831', 'add_part_attrs_package_section_period_attr_v': 'CCCCCCCCCCCCCCCCCCCCCCCCCCCCCCCCCCCCCCCCCCCCCCCCCCCCCCCCCCCCCCCCCCCCCCCCCCCCCCCCCCCCCCCCCCCCCCCCCC321220100'}, {'add_part_attrs_package_section_period_attr_c_i': '543662642', 'add_part_attrs_package_section_period_attr_n': '831', 'add_part_attrs_package_section_period_attr_v': 'CCCCCCCCCCCCCCCCCCCCCCCCCCCCCCCCCCCCCCCCCCCCCCCCCCCCCCCCCCCCCCCCCCCCCCCCCCCCCCCCCCCCCCCCCCCCCCCCCC10101000-'}, {'add_part_attrs_package_section_period_attr_c_i': '1041310945', 'add_part_attrs_package_section_period_attr_n': '831', 'add_part_attrs_package_section_period_attr_v': 'CCCCCCCCCCCCCCCCCCCCCCCCCCCCCCCCCCC00000000000000'}, {'add_part_attrs_package_section_period_attr_c_i': '1041310955', 'add_part_attrs_package_section_period_attr_n': '831', 'add_part_attrs_package_section_period_attr_v': 'CCCCCCCC00000000000000000000000000000000000000000'}, {'add_part_attrs_package_section_period_attr_c_i': '1077088045', 'add_part_attrs_package_section_period_attr_n': '831', 'add_part_attrs_package_section_period_attr_v': 'CCCCCCCCCCCCCC000000000000000000000'}, {'add_part_attrs_package_section_period_attr_c_i': '1598658507', 'add_part_attrs_package_section_period_attr_n': '831', 'add_part_attrs_package_section_period_attr_v': '00000000000000'}, {'add_part_attrs_package_section_period_attr_c_i': '2643735377', 'add_part_attrs_package_section_period_attr_n': '831', 'add_part_attrs_package_section_period_attr_v': 'CCCCCCCCCCCCCCCCCCCCCCCCCCCCCCCCCCCCCCCCCCCCCCCCCCCCCCCCCCCCCCCCCCCCCCCCCCCCCCCCC000000000000000000000000'}, {'add_part_attrs_package_section_period_attr_c_i': '2649035627', 'add_part_attrs_package_section_period_attr_n': '831', 'add_part_attrs_package_section_period_attr_v': 'CCCCCCCCCCCCCCCCCCCCCCCCCCCCCCCCCCCCCCCCCCCCCCCCCCCCCCCCCCCCCCCCCCCCCCCCCCCCC--------------------------'}]}"
     ]
    }
   ],
   "source": [
    "flat_second_xml_dict"
   ]
  },
  {
   "cell_type": "code",
   "execution_count": 275,
   "metadata": {
    "collapsed": true
   },
   "outputs": [],
   "source": [
    "def parse_to_spark_df(xml):\n",
    "    \n",
    "    #single_values = set()\n",
    "    #multi_values = set()\n",
    "    \n",
    "    #for xml in xml_list:\n",
    "        #single_xml_parsed = parseXML(xml)\n",
    "    root = ET.XML(xml)\n",
    "    xmldict = XmlDictConfig(root)\n",
    "    single_xml_parsed = flatten(xmldict)\n",
    "\n",
    "    single_values_dict = {}\n",
    "    multi_values_dict = {}\n",
    "    for k, v in single_xml_parsed.items():\n",
    "        if type(v) != XmlListConfig:\n",
    "            single_values_dict[k] = v\n",
    "        else:\n",
    "            multi_values_dict[k] = v\n",
    "\n",
    "    #single_values = single_values.union(set(single_values_dict.keys()))\n",
    "    #multi_values = multi_values.union(set(multi_values_dict.keys()))\n",
    "\n",
    "    xml_df = pd.DataFrame.from_dict([single_values_dict])\n",
    "\n",
    "    for k, v in multi_values_dict.items():\n",
    "        if v:\n",
    "            #print(v)\n",
    "            xml_df[k] = [[dict(xml_dict) if str(type(xml_dict)) == \"<class 'XmlDictConfig'>\" \n",
    "                                         else xml_dict for xml_dict in v] if len(v) > 1 else v]\n",
    "        else:\n",
    "            xml_df[k] = []\n",
    "    # if xml_df doesn't exist: create\n",
    "    # else concatenate tmp_df with xml_df\n",
    "#     try:\n",
    "#         xml_df\n",
    "#     except NameError:\n",
    "#         xml_df = deepcopy(tmp_df)\n",
    "#     else:\n",
    "#         xml_df = pd.concat([xml_df, tmp_df])\n",
    "            \n",
    "    #To be able to trnsaform dataframe to spark dataframe we have to get rid of NaN values\n",
    "    #Replace NaN with empty string\n",
    "    for s_c in set(single_values_dict.keys()):\n",
    "        xml_df.loc[xml_df[s_c].isnull(), s_c] = xml_df.loc[xml_df[s_c].isnull(), s_c].apply(lambda x: '')\n",
    "    #Replace NaN with empty list\n",
    "    for m_c in set(multi_values_dict.keys()):\n",
    "        xml_df.loc[xml_df[m_c].isnull(), m_c] = xml_df.loc[xml_df[m_c].isnull(), m_c].apply(lambda x: [])\n",
    "    \n",
    "    return xml_df\n",
    "    #return (spark.createDataFrame(xml_df), single_values_dict.keys(), multi_values_dict.keys())"
   ]
  },
  {
   "cell_type": "code",
   "execution_count": 277,
   "metadata": {
    "collapsed": true
   },
   "outputs": [],
   "source": [
    "spark_df_single_xml = spark.createDataFrame(parse_to_spark_df(second_xml_str))"
   ]
  },
  {
   "cell_type": "code",
   "execution_count": 281,
   "metadata": {
    "scrolled": true
   },
   "outputs": [
    {
     "name": "stdout",
     "output_type": "stream",
     "text": [
      "+----------------------------+-----------------------------+---------------------------+\n",
      "|title_part_private_firstname|title_part_private_middlename|title_part_private_lastname|\n",
      "+----------------------------+-----------------------------+---------------------------+\n",
      "|                     ТАТЬЯНА|                   НИКОЛАЕВНА|                 СЕЛИВАНОВА|\n",
      "+----------------------------+-----------------------------+---------------------------+"
     ]
    }
   ],
   "source": [
    "personal_info_cols = ['title_part_private_firstname', 'title_part_private_middlename',\n",
    "                      'title_part_private_lastname']\n",
    "\n",
    "spark_df_single_xml = spark.createDataFrame(parse_to_spark_df(second_xml_str))\n",
    "spark_df_single_xml.select(personal_info_cols).show()"
   ]
  },
  {
   "cell_type": "code",
   "execution_count": 280,
   "metadata": {},
   "outputs": [
    {
     "name": "stdout",
     "output_type": "stream",
     "text": [
      "['add_part_attrs_package_id', 'add_part_attrs_package_name', 'add_part_attrs_package_section_id', 'add_part_attrs_package_section_name', 'add_part_attrs_package_section_period_attr', 'add_part_info_requests_request', 'add_part_interest_day', 'add_part_interest_hour', 'add_part_interest_month', 'add_part_interest_quarter', 'add_part_interest_week', 'add_part_interest_year', 'add_part_own_interest_day', 'add_part_own_interest_hour', 'add_part_own_interest_month', 'add_part_own_interest_quarter', 'add_part_own_interest_week', 'add_part_own_interest_year', 'base_part_addr_fact', 'base_part_addr_reg', 'base_part_credit', 'base_part_history_addr_addr_fact', 'base_part_history_addr_addr_reg', 'dateofreport', 'num', 'report_type', 'responsecode', 'responsestring', 'title_part_private_birthday', 'title_part_private_birthplace', 'title_part_private_doc_docdate', 'title_part_private_doc_docno', 'title_part_private_doc_docplace', 'title_part_private_doc_doctype', 'title_part_private_firstname', 'title_part_private_history_title', 'title_part_private_lastname', 'title_part_private_middlename']"
     ]
    }
   ],
   "source": [
    "spark_df_single_xml.columns"
   ]
  },
  {
   "cell_type": "code",
   "execution_count": 285,
   "metadata": {},
   "outputs": [
    {
     "name": "stdout",
     "output_type": "stream",
     "text": [
      "+----------------------------+-----------------------------+---------------------------+\n",
      "|title_part_private_firstname|title_part_private_middlename|title_part_private_lastname|\n",
      "+----------------------------+-----------------------------+---------------------------+\n",
      "|                        ЮРИЙ|                   ДМИТРИЕВИЧ|                  КУЛИНЕНКО|\n",
      "+----------------------------+-----------------------------+---------------------------+"
     ]
    }
   ],
   "source": [
    "first_xml_str = '\\n'.join(first_xml)\n",
    "\n",
    "spark_df_first_xml = spark.createDataFrame(parse_to_spark_df(first_xml_str))\n",
    "spark_df_first_xml.select(personal_info_cols).show()"
   ]
  },
  {
   "cell_type": "code",
   "execution_count": 286,
   "metadata": {},
   "outputs": [
    {
     "name": "stdout",
     "output_type": "stream",
     "text": [
      "['add_part_attrs_package_id', 'add_part_attrs_package_name', 'add_part_attrs_package_section_id', 'add_part_attrs_package_section_name', 'add_part_attrs_package_section_period_attr_c_i', 'add_part_attrs_package_section_period_attr_n', 'add_part_attrs_package_section_period_attr_v', 'add_part_info_requests_request', 'add_part_interest_day', 'add_part_interest_hour', 'add_part_interest_month', 'add_part_interest_quarter', 'add_part_interest_week', 'add_part_interest_year', 'add_part_own_interest_day', 'add_part_own_interest_hour', 'add_part_own_interest_month', 'add_part_own_interest_quarter', 'add_part_own_interest_week', 'add_part_own_interest_year', 'base_part_addr_fact', 'base_part_addr_reg', 'base_part_credit_cred_active', 'base_part_credit_cred_active_date', 'base_part_credit_cred_collateral', 'base_part_credit_cred_currency', 'base_part_credit_cred_date', 'base_part_credit_cred_date_payout', 'base_part_credit_cred_day_overdue', 'base_part_credit_cred_enddate', 'base_part_credit_cred_facility', 'base_part_credit_cred_first_load', 'base_part_credit_cred_full_cost', 'base_part_credit_cred_id', 'base_part_credit_cred_max_overdue', 'base_part_credit_cred_owner', 'base_part_credit_cred_partner_type', 'base_part_credit_cred_person_num', 'base_part_credit_cred_prolong', 'base_part_credit_cred_ratio', 'base_part_credit_cred_sum', 'base_part_credit_cred_sum_debt', 'base_part_credit_cred_sum_first', 'base_part_credit_cred_sum_limit', 'base_part_credit_cred_sum_overdue', 'base_part_credit_cred_sum_payout', 'base_part_credit_cred_sum_type', 'base_part_credit_cred_type', 'base_part_credit_cred_update', 'base_part_credit_delay30', 'base_part_credit_delay5', 'base_part_credit_delay60', 'base_part_credit_delay90', 'base_part_credit_delay_more', 'base_part_credit_op_cred_sum_paid', 'base_part_credit_ta_cred_sum_paid', 'base_part_history_addr_addr_fact', 'base_part_history_addr_addr_reg', 'dateofreport', 'num', 'report_type', 'responsecode', 'responsestring', 'title_part_private_birthday', 'title_part_private_birthplace', 'title_part_private_doc_docdate', 'title_part_private_doc_docno', 'title_part_private_doc_docplace', 'title_part_private_doc_doctype', 'title_part_private_firstname', 'title_part_private_history_title', 'title_part_private_lastname', 'title_part_private_middlename']"
     ]
    }
   ],
   "source": [
    "spark_df_first_xml.columns"
   ]
  },
  {
   "cell_type": "code",
   "execution_count": 287,
   "metadata": {
    "scrolled": true
   },
   "outputs": [
    {
     "name": "stderr",
     "output_type": "stream",
     "text": [
      "\"Union can only be performed on tables with the same number of columns, but the first table has 73 columns and the second table has 38 columns;;\\n'Union\\n:- LogicalRDD [add_part_attrs_package_id#451, add_part_attrs_package_name#452, add_part_attrs_package_section_id#453, add_part_attrs_package_section_name#454, add_part_attrs_package_section_period_attr_c_i#455, add_part_attrs_package_section_period_attr_n#456, add_part_attrs_package_section_period_attr_v#457, add_part_info_requests_request#458, add_part_interest_day#459, add_part_interest_hour#460, add_part_interest_month#461, add_part_interest_quarter#462, add_part_interest_week#463, add_part_interest_year#464, add_part_own_interest_day#465, add_part_own_interest_hour#466, add_part_own_interest_month#467, add_part_own_interest_quarter#468, add_part_own_interest_week#469, add_part_own_interest_year#470, base_part_addr_fact#471, base_part_addr_reg#472, base_part_credit_cred_active#473, base_part_credit_cred_active_date#474, ... 49 more fields]\\n+- LogicalRDD [add_part_attrs_package_id#365, add_part_attrs_package_name#366, add_part_attrs_package_section_id#367, add_part_attrs_package_section_name#368, add_part_attrs_package_section_period_attr#369, add_part_info_requests_request#370, add_part_interest_day#371, add_part_interest_hour#372, add_part_interest_month#373, add_part_interest_quarter#374, add_part_interest_week#375, add_part_interest_year#376, add_part_own_interest_day#377, add_part_own_interest_hour#378, add_part_own_interest_month#379, add_part_own_interest_quarter#380, add_part_own_interest_week#381, add_part_own_interest_year#382, base_part_addr_fact#383, base_part_addr_reg#384, base_part_credit#385, base_part_history_addr_addr_fact#386, base_part_history_addr_addr_reg#387, dateofreport#388, ... 14 more fields]\\n\"\n",
      "Traceback (most recent call last):\n",
      "  File \"/opt/cloudera/parcels/SPARK2-2.2.0.cloudera1-1.cdh5.12.0.p0.142354/lib/spark2/python/lib/pyspark.zip/pyspark/sql/dataframe.py\", line 1176, in union\n",
      "    return DataFrame(self._jdf.union(other._jdf), self.sql_ctx)\n",
      "  File \"/opt/cloudera/parcels/SPARK2-2.2.0.cloudera1-1.cdh5.12.0.p0.142354/lib/spark2/python/lib/py4j-0.10.4-src.zip/py4j/java_gateway.py\", line 1133, in __call__\n",
      "    answer, self.gateway_client, self.target_id, self.name)\n",
      "  File \"/opt/cloudera/parcels/SPARK2-2.2.0.cloudera1-1.cdh5.12.0.p0.142354/lib/spark2/python/lib/pyspark.zip/pyspark/sql/utils.py\", line 69, in deco\n",
      "    raise AnalysisException(s.split(': ', 1)[1], stackTrace)\n",
      "pyspark.sql.utils.AnalysisException: \"Union can only be performed on tables with the same number of columns, but the first table has 73 columns and the second table has 38 columns;;\\n'Union\\n:- LogicalRDD [add_part_attrs_package_id#451, add_part_attrs_package_name#452, add_part_attrs_package_section_id#453, add_part_attrs_package_section_name#454, add_part_attrs_package_section_period_attr_c_i#455, add_part_attrs_package_section_period_attr_n#456, add_part_attrs_package_section_period_attr_v#457, add_part_info_requests_request#458, add_part_interest_day#459, add_part_interest_hour#460, add_part_interest_month#461, add_part_interest_quarter#462, add_part_interest_week#463, add_part_interest_year#464, add_part_own_interest_day#465, add_part_own_interest_hour#466, add_part_own_interest_month#467, add_part_own_interest_quarter#468, add_part_own_interest_week#469, add_part_own_interest_year#470, base_part_addr_fact#471, base_part_addr_reg#472, base_part_credit_cred_active#473, base_part_credit_cred_active_date#474, ... 49 more fields]\\n+- LogicalRDD [add_part_attrs_package_id#365, add_part_attrs_package_name#366, add_part_attrs_package_section_id#367, add_part_attrs_package_section_name#368, add_part_attrs_package_section_period_attr#369, add_part_info_requests_request#370, add_part_interest_day#371, add_part_interest_hour#372, add_part_interest_month#373, add_part_interest_quarter#374, add_part_interest_week#375, add_part_interest_year#376, add_part_own_interest_day#377, add_part_own_interest_hour#378, add_part_own_interest_month#379, add_part_own_interest_quarter#380, add_part_own_interest_week#381, add_part_own_interest_year#382, base_part_addr_fact#383, base_part_addr_reg#384, base_part_credit#385, base_part_history_addr_addr_fact#386, base_part_history_addr_addr_reg#387, dateofreport#388, ... 14 more fields]\\n\"\n",
      "\n"
     ]
    }
   ],
   "source": [
    "spark_df_first_xml.union(spark_df_single_xml)"
   ]
  },
  {
   "cell_type": "code",
   "execution_count": 289,
   "metadata": {},
   "outputs": [
    {
     "name": "stdout",
     "output_type": "stream",
     "text": [
      "{'base_part_credit_cred_date', 'base_part_credit_delay60', 'base_part_credit_cred_sum_type', 'base_part_credit_cred_sum_limit', 'base_part_credit_cred_sum', 'base_part_credit_delay90', 'base_part_credit_cred_first_load', 'base_part_credit_cred_active', 'base_part_credit_cred_update', 'add_part_attrs_package_section_period_attr_c_i', 'base_part_credit_delay_more', 'base_part_credit_cred_facility', 'base_part_credit_cred_id', 'add_part_attrs_package_section_period_attr_n', 'add_part_attrs_package_section_period_attr_v', 'base_part_credit_cred_active_date', 'base_part_credit_cred_prolong', 'base_part_credit_cred_partner_type', 'base_part_credit_cred_enddate', 'base_part_credit_delay30', 'base_part_credit_delay5', 'base_part_credit_op_cred_sum_paid', 'base_part_credit_cred_max_overdue', 'base_part_credit_cred_day_overdue', 'base_part_credit_cred_person_num', 'base_part_credit_ta_cred_sum_paid', 'base_part_credit_cred_sum_first', 'base_part_credit_cred_sum_payout', 'base_part_credit_cred_owner', 'base_part_credit_cred_date_payout', 'base_part_credit_cred_ratio', 'base_part_credit_cred_collateral', 'base_part_credit_cred_type', 'base_part_credit_cred_full_cost', 'base_part_credit_cred_sum_debt', 'base_part_credit_cred_sum_overdue', 'base_part_credit_cred_currency'}"
     ]
    }
   ],
   "source": [
    "set(spark_df_first_xml.columns) - set(spark_df_single_xml.columns)"
   ]
  },
  {
   "cell_type": "code",
   "execution_count": 328,
   "metadata": {
    "collapsed": true
   },
   "outputs": [],
   "source": [
    "response_pat = '^<response num='\n",
    "response_close_pat = '^</response>$'\n",
    "\n",
    "filtered = text_data_zipped.filter(lambda x: (x[1] > 2) & (x[1] < 100000) & \\\n",
    "                                             (True if re.search(response_close_pat, x[0]) else False))"
   ]
  },
  {
   "cell_type": "code",
   "execution_count": 329,
   "metadata": {
    "collapsed": true
   },
   "outputs": [],
   "source": [
    "response_close_ixs = filtered.values().collect()"
   ]
  },
  {
   "cell_type": "code",
   "execution_count": 330,
   "metadata": {},
   "outputs": [
    {
     "name": "stdout",
     "output_type": "stream",
     "text": [
      "251 [178, 765, 983, 1246, 1956, 2364, 2538, 3095, 3200, 3348, 3922, 4523, 4917, 5156, 5325, 5599, 5935, 6131, 6446, 6761, 7367, 7496, 7904, 8318, 8585, 8887, 9204, 9475, 9929, 10174, 10465, 11072, 11590, 11850, 12303, 12549, 13108, 15323, 16106, 16364, 16764, 18320, 19420, 19614, 20292, 20729, 21591, 21761, 21994, 22628, 22780, 23302, 24405, 24920, 25306, 25765, 26275, 26465, 26766, 27343, 27623, 27802, 28713, 28841, 29105, 29402, 29995, 30052, 30357, 30519, 30985, 31548, 31975, 32050, 32129, 32372, 33154, 33711, 33814, 34279, 34898, 35181, 35460, 35788, 35941, 36423, 36668, 36998, 37940, 38131, 38524, 38642, 38991, 39263, 39444, 39885, 40236, 40765, 40870, 41444, 42017, 42535, 42707, 43331, 44117, 44729, 45286, 45508, 45740, 46000, 46213, 46405, 46962, 47248, 47563, 48234, 48463, 48973, 49214, 49771, 50134, 51537, 51884, 52313, 52604, 53113, 53487, 53973, 54506, 54809, 55067, 56024, 56404, 56927, 57078, 57300, 57761, 58469, 59052, 59462, 59661, 59847, 60082, 60608, 61139, 61579, 62223, 62514, 62727, 63096, 63437, 64351, 64757, 65189, 65386, 65676, 65898, 66567, 66735, 67908, 68272, 68674, 69268, 69871, 70014, 70492, 70586, 70973, 71151, 71534, 71611, 71768, 72344, 72730, 72772, 73196, 73431, 73716, 74207, 74442, 74967, 75668, 75728, 76766, 77309, 77644, 77837, 78318, 78811, 79039, 79798, 79935, 80444, 80520, 80755, 81223, 82118, 82349, 82530, 83240, 83543, 83893, 84287, 84652, 84742, 85135, 85598, 86132, 86281, 86782, 86973, 87303, 87697, 87787, 88023, 88111, 88449, 88509, 88711, 88877, 89012, 89101, 89717, 89885, 90113, 90669, 90743, 90958, 91782, 91949, 92519, 93081, 93189, 93325, 93620, 93910, 94077, 94500, 94686, 95309, 95762, 96160, 96547, 96929, 97195, 97747, 97976, 98531, 98848, 99584, 99984]"
     ]
    }
   ],
   "source": [
    "print(len(response_close_ixs), response_close_ixs)"
   ]
  },
  {
   "cell_type": "code",
   "execution_count": 331,
   "metadata": {},
   "outputs": [
    {
     "name": "stdout",
     "output_type": "stream",
     "text": [
      "251"
     ]
    }
   ],
   "source": [
    "first_xmls_strs = []\n",
    "begin_ix = 2\n",
    "\n",
    "for ix in response_close_ixs:\n",
    "    xml =  text_data_zipped.filter(lambda x: (x[1] > begin_ix) & (x[1] <= ix + 1)).keys().collect()\n",
    "    xml_str = '\\n'.join(xml)\n",
    "    \n",
    "    first_xmls_strs.append(xml_str)\n",
    "    \n",
    "    begin_ix = ix + 1\n",
    "\n",
    "len(first_xmls_strs)"
   ]
  },
  {
   "cell_type": "code",
   "execution_count": null,
   "metadata": {
    "collapsed": true
   },
   "outputs": [],
   "source": [
    "spark_df_first_xml = spark.createDataFrame(parse_to_spark_df(first_xml_str))\n",
    "spark_df_first_xml.select(personal_info_cols).show()"
   ]
  },
  {
   "cell_type": "code",
   "execution_count": 315,
   "metadata": {
    "collapsed": true
   },
   "outputs": [],
   "source": [
    "pers_cols_df = spark_df_first_xml.select(personal_info_cols)"
   ]
  },
  {
   "cell_type": "code",
   "execution_count": 319,
   "metadata": {},
   "outputs": [
    {
     "name": "stdout",
     "output_type": "stream",
     "text": [
      "+----------------------------+-----------------------------+---------------------------+\n",
      "|title_part_private_firstname|title_part_private_middlename|title_part_private_lastname|\n",
      "+----------------------------+-----------------------------+---------------------------+\n",
      "|                        ЮРИЙ|                   ДМИТРИЕВИЧ|                  КУЛИНЕНКО|\n",
      "+----------------------------+-----------------------------+---------------------------+"
     ]
    }
   ],
   "source": [
    "pers_cols_df.show()"
   ]
  },
  {
   "cell_type": "code",
   "execution_count": 323,
   "metadata": {},
   "outputs": [
    {
     "name": "stdout",
     "output_type": "stream",
     "text": [
      "0\n",
      "1"
     ]
    }
   ],
   "source": [
    "pers_cols_df = spark_df_first_xml.select(personal_info_cols)\n",
    "\n",
    "for xml in first_xmls_strs:\n",
    "    xml_spark_df = spark.createDataFrame(parse_to_spark_df(xml))\n",
    "    pers_df = xml_spark_df.select(personal_info_cols)\n",
    "    \n",
    "    pers_cols_df = pers_cols_df.union(pers_df)\n",
    "    \n",
    "pers_cols_df.show()"
   ]
  },
  {
   "cell_type": "code",
   "execution_count": null,
   "metadata": {
    "collapsed": true
   },
   "outputs": [],
   "source": []
  }
 ],
 "metadata": {
  "kernelspec": {
   "display_name": "PySpark",
   "language": "",
   "name": "pysparkkernel"
  },
  "language_info": {
   "codemirror_mode": {
    "name": "python",
    "version": 2
   },
   "mimetype": "text/x-python",
   "name": "pyspark",
   "pygments_lexer": "python2"
  }
 },
 "nbformat": 4,
 "nbformat_minor": 2
}
